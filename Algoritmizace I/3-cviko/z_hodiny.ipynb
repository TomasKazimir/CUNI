{
 "cells": [
  {
   "cell_type": "markdown",
   "metadata": {},
   "source": [
    "# 3. Cviko - Algoritmizace 16/10/2024\n",
    "\n",
    "Asymptotické složitosti\n",
    "\n",
    "\n",
    "Motivace:\n",
    "\n",
    "*Simple made easy (Rich Hickey)* - https://www.infoq.com/presentations/Simple-Made-Easy/ - till 8, 29:00\n",
    "\n",
    "https://www.youtube.com/watch?v=ctUiBVT142Y&ab_channel=BlackFlag-Topic\n",
    "\n",
    "https://upload.wikimedia.org/wikipedia/commons/a/a5/Tsunami_by_hokusai_19th_century.jpg\n",
    "\n",
    "https://www.youtube.com/watch?v=sZmWGJDsBWs&ab_channel=TheSelecter-Official\n",
    "\n"
   ]
  },
  {
   "cell_type": "markdown",
   "metadata": {},
   "source": [
    "\n",
    ">**Definice:** \n",
    ">Nechť f, g : N → R jsou dvě funkce. Řekneme, že funkce f(n) je třídy O(g(n)),\n",
    "jestliže existuje taková kladná reálná konstanta c, že pro skoro všechna n platí f(n) ≤\n",
    "cg(n). Skoro všemi n se myslí, že nerovnost může selhat pro konečně mnoho výjimek, tedy\n",
    "že existuje nějaké přirozené n0 takové, že nerovnost platí pro všechna n ≥ n0. Funkci g(n)\n",
    "se pak říká asymptotický horní odhad funkce f(n)."
   ]
  },
  {
   "cell_type": "markdown",
   "metadata": {},
   "source": [
    "f(n) ∈ O(g(n))\n",
    "\n",
    "0 ≤ f(n) ≤ c * g(n)"
   ]
  },
  {
   "cell_type": "markdown",
   "metadata": {},
   "source": [
    "**Problémy 1:**\n",
    "* Ukažte, že pro libovolnou konstantu c > 0 platí c = O(1)\n",
    "* Ukažte, že pro libovolnou konstantu c > 0 platí c*f = O(f)\n",
    "* Ukažte, že n^2 + n = O(n^2)\n",
    "* Ukažte, že nlog(n) = O(n^2)\n",
    "* Dokažte, že n log n != O(n)"
   ]
  },
  {
   "cell_type": "markdown",
   "metadata": {},
   "source": [
    "**Problémy 2:** \\\n",
    "Dokažte:\n",
    "\n",
    "* Nechť f(n) = f1(n) + f2(n) a f1(n) ∈ O(f2(n)). Pak f(n) ∈ O(f2(n)).\n",
    "\n",
    "Platí, že:\n",
    "* 1/n = O(1/n^3), n > 0 ?\n",
    "* 2^(n+1) = O(2^n) ?\n",
    "* 2^(2n) = O(2^n) ?\n",
    "* log_2(n) = O(log_4(n)), n > 0 ?\n",
    "\n",
    "Setřiďte podle rychlosti stoupání pro vellká n:\\\n",
    " n*log(2n), log_10(n), 10^n, n^10, 10n, 100, n^2, log(n!), n!"
   ]
  }
 ],
 "metadata": {
  "language_info": {
   "name": "python"
  }
 },
 "nbformat": 4,
 "nbformat_minor": 2
}
