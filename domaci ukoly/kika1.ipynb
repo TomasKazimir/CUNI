{
 "cells": [
  {
   "cell_type": "code",
   "execution_count": 11,
   "metadata": {},
   "outputs": [
    {
     "name": "stdout",
     "output_type": "stream",
     "text": [
      "n = 29\n",
      "29\n"
     ]
    }
   ],
   "source": [
    "n = int(input())\n",
    "print(f\"n = {n}\")\n",
    "i = 2\n",
    "while n > 1:\n",
    "    if n%i ==0:\n",
    "        print(i)\n",
    "        n //= i\n",
    "    else:\n",
    "        i += 1"
   ]
  }
 ],
 "metadata": {
  "kernelspec": {
   "display_name": "Python 3",
   "language": "python",
   "name": "python3"
  },
  "language_info": {
   "codemirror_mode": {
    "name": "ipython",
    "version": 3
   },
   "file_extension": ".py",
   "mimetype": "text/x-python",
   "name": "python",
   "nbconvert_exporter": "python",
   "pygments_lexer": "ipython3",
   "version": "3.12.7"
  }
 },
 "nbformat": 4,
 "nbformat_minor": 2
}
