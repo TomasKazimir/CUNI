{
 "cells": [
  {
   "cell_type": "code",
   "execution_count": 1,
   "metadata": {},
   "outputs": [
    {
     "name": "stdout",
     "output_type": "stream",
     "text": [
      "7.0\n",
      "2.0\n"
     ]
    }
   ],
   "source": [
    "a = int(input())\n",
    "b = int(input())\n",
    "c = int(input())\n",
    "d = int(input())\n",
    "\n",
    "def spolmenovatel(b,d):\n",
    "    if b%d==0 or d%b==0:\n",
    "        if b>d:\n",
    "            menovatel= b\n",
    "        else:\n",
    "            menovatel=d\n",
    "    else:\n",
    "        menovatel= b*d\n",
    "    return menovatel\n",
    "def scitanycitatel(a,b,c,d):\n",
    "    x=(spolmenovatel(b,d)/b)*a\n",
    "    y=(spolmenovatel(b,d)/d)*c\n",
    "    citatel= x+y\n",
    "    return citatel\n",
    "E= scitanycitatel(a,c,b,d)\n",
    "menovatel= spolmenovatel(b,d)\n",
    "def nsd(citatel,menovatel):\n",
    "    while citatel!=menovatel:\n",
    "        if citatel>menovatel:\n",
    "            citatel=citatel-menovatel\n",
    "        if menovatel>citatel:\n",
    "            menovatel=menovatel-citatel\n",
    "    return citatel\n",
    "\n",
    "print(scitanycitatel(a,b,c,d)/nsd(E,menovatel))\n",
    "print(spolmenovatel(b,d)/nsd(E,menovatel))\n"
   ]
  },
  {
   "cell_type": "code",
   "execution_count": 5,
   "metadata": {},
   "outputs": [
    {
     "name": "stdout",
     "output_type": "stream",
     "text": [
      "17\n",
      "72\n"
     ]
    }
   ],
   "source": [
    "\n",
    "\"\"\"\n",
    " A     C    A*D + C*B    E\n",
    "--- + --- = --------- = ---      .... pak jen zkratit citatel a jmenovatel, tedy vydelit je spolecnyma delitelema\n",
    " B     D      B * D      F \n",
    "\"\"\"\n",
    "\n",
    "from math import gcd  # nejvetsi spolecny delitel\n",
    "\n",
    "A = int(input())\n",
    "B = int(input())\n",
    "C = int(input())\n",
    "D = int(input())\n",
    "\n",
    "E = A*D + C*B\n",
    "F = B*D\n",
    "\n",
    "spolecny_delitel = gcd(E, F)\n",
    "E //= spolecny_delitel\n",
    "F //= spolecny_delitel\n",
    "\n",
    "print(E)\n",
    "print(F)\n"
   ]
  }
 ],
 "metadata": {
  "kernelspec": {
   "display_name": "Python 3",
   "language": "python",
   "name": "python3"
  },
  "language_info": {
   "codemirror_mode": {
    "name": "ipython",
    "version": 3
   },
   "file_extension": ".py",
   "mimetype": "text/x-python",
   "name": "python",
   "nbconvert_exporter": "python",
   "pygments_lexer": "ipython3",
   "version": "3.12.7"
  }
 },
 "nbformat": 4,
 "nbformat_minor": 2
}
