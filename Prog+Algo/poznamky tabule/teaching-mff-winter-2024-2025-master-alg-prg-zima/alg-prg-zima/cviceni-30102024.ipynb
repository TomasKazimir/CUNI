{
 "cells": [
  {
   "cell_type": "markdown",
   "metadata": {},
   "source": [
    "# Cvičení - 30.10.2024"
   ]
  },
  {
   "cell_type": "markdown",
   "metadata": {},
   "source": [
    "__Motivace__:\n",
    "* https://vimeo.com/906418692 - 0-5, 34-40\n",
    "* https://www.youtube.com/watch?v=EdIKIf9mHk0&list=PLOmdoKois7_FK-ySGwHBkltzB11snW7KQ&ab_channel=megaovermoc\n",
    "* https://visualgo.net/en\n"
   ]
  },
  {
   "cell_type": "markdown",
   "metadata": {},
   "source": [
    "__Problémy__:"
   ]
  },
  {
   "cell_type": "markdown",
   "metadata": {},
   "source": [
    "1. Napište funkci, která vezme pole a s N – 1 prvky. Pole bude obsahovat všechna celá čísla od 1 .. N v pořadí, kromě toho, že jedno celé číslo z tohoto rozsahu bude chybět. Vaše funkce by měla vrátit hodnotu chybějícího celého čísla. V nejhorším případě by měl běžet v čase O(log N)."
   ]
  },
  {
   "cell_type": "markdown",
   "metadata": {},
   "source": [
    ".\n",
    "\n",
    ".\n",
    "\n",
    ".\n",
    "\n",
    ".\n",
    "\n",
    ".\n",
    "\n",
    ".\n",
    "\n",
    ".\n"
   ]
  },
  {
   "cell_type": "code",
   "execution_count": 6,
   "metadata": {},
   "outputs": [
    {
     "data": {
      "text/plain": [
       "5"
      ]
     },
     "execution_count": 6,
     "metadata": {},
     "output_type": "execute_result"
    }
   ],
   "source": [
    "def search_non_existent(array):\n",
    "    low = 0              \n",
    "    hi =  len(array) - 1 \n",
    "    mid = (low + hi) // 2\n",
    "    while low <= hi:\n",
    "        if array[mid] == mid + 1:\n",
    "            low = mid + 1\n",
    "        else:\n",
    "            hi = mid - 1\n",
    "        mid = (low + hi) // 2\n",
    "    return hi+2\n",
    "\n",
    "search_non_existent([1,2,3,4])"
   ]
  },
  {
   "cell_type": "markdown",
   "metadata": {},
   "source": [
    "2. Předpokládejme, že máme funkci f(x), která je definována na všech celých číslech a je monotónní, tj. f(x) ≤ f(y), kdykoli x < y. (Například f(x) = x^3 je jednou z takových funkcí.) Nyní je nám dána hodnota k a rádi bychom našli největší hodnotu n takovou, že f(n) ≤ k. Napište program, který dokáže vyřešit tento problém v O(log f(n)) (za předpokladu, že f běží v konstantním čase)\n"
   ]
  },
  {
   "cell_type": "code",
   "execution_count": 3,
   "metadata": {},
   "outputs": [
    {
     "data": {
      "text/plain": [
       "3"
      ]
     },
     "execution_count": 3,
     "metadata": {},
     "output_type": "execute_result"
    }
   ],
   "source": [
    "def find_n(f, k):\n",
    "    low = -1\n",
    "    hi = 1\n",
    "    while f(low) > k or f(hi) < k:\n",
    "        if f(low) > k:\n",
    "            low = 2*low\n",
    "        if f(hi) < k:\n",
    "            hi = 2*hi\n",
    "\n",
    "    mid = (low + hi) // 2\n",
    "    while low <= hi:\n",
    "        if f(mid) == k:\n",
    "            return mid\n",
    "        if f(mid) < k:\n",
    "            low = mid + 1\n",
    "        else:\n",
    "            hi = mid - 1\n",
    "        mid = (low + hi) // 2\n",
    "\n",
    "    return hi\n",
    "\n",
    "def linear(x):\n",
    "    return x\n",
    "\n",
    "def square(x):\n",
    "    return x*x\n",
    "\n",
    "def sqrt(x):\n",
    "    import math\n",
    "    return math.sqrt(x)\n",
    "\n",
    "find_n(square, 9)"
   ]
  },
  {
   "cell_type": "markdown",
   "metadata": {},
   "source": [
    "3. Napište program, který přečte celé číslo n ≥ 0 a vypíše druhou odmocninu z n (pokud je to celé číslo), nebo jinak 'Není čtverec'. Nepoužívejte žádná čísla s pohyblivou řádovou čárkou. Váš program by měl běžet v čase O(log n)."
   ]
  },
  {
   "cell_type": "code",
   "execution_count": 7,
   "metadata": {},
   "outputs": [
    {
     "data": {
      "text/plain": [
       "3"
      ]
     },
     "execution_count": 7,
     "metadata": {},
     "output_type": "execute_result"
    }
   ],
   "source": [
    "def find_sqrt(n):\n",
    "    x = find_n(square, n)\n",
    "    return x if x*x == n else \"Neni ctverec\"\n",
    "\n",
    "find_sqrt(9)"
   ]
  },
  {
   "cell_type": "markdown",
   "metadata": {},
   "source": [
    "__Třídění__"
   ]
  },
  {
   "cell_type": "code",
   "execution_count": 1,
   "metadata": {},
   "outputs": [
    {
     "data": {
      "text/plain": [
       "[1, 2, 3, 4]"
      ]
     },
     "execution_count": 1,
     "metadata": {},
     "output_type": "execute_result"
    }
   ],
   "source": [
    "def buble_sort_simple(lst):\n",
    "    run = True\n",
    "    while run:\n",
    "        run = False\n",
    "        for i in range(len(lst) - 1):\n",
    "            if lst[i] > lst[i+1]:\n",
    "                lst[i], lst[i+1] = lst[i+1], lst[i]\n",
    "                run = True\n",
    "    return lst\n",
    "\n",
    "buble_sort_simple([4,3,2,1])"
   ]
  },
  {
   "cell_type": "markdown",
   "metadata": {},
   "source": [
    "* Na jakých datech provede Bubblesort pouze jeden průchod?\n",
    "* Na jakých právě dva průchody?\n",
    "* Kolik přesně průchodů vykoná nad sestupně uspořádaným vstupem?\n",
    "* Ukažte, že v k-tém průchodu Bubblesortu stačí zkoumat prvky na pozicích\n",
    "1, . . . , n − k + 1. Změní se touto úpravou časová složitost?"
   ]
  },
  {
   "cell_type": "code",
   "execution_count": 2,
   "metadata": {},
   "outputs": [
    {
     "data": {
      "text/plain": [
       "[1, 2, 3, 4]"
      ]
     },
     "execution_count": 2,
     "metadata": {},
     "output_type": "execute_result"
    }
   ],
   "source": [
    "def insertion_sort(a):\n",
    "    n = len(a)\n",
    "    for i in range(n):\n",
    "        t = a[i]\n",
    "        j = i - 1\n",
    "        while j >= 0 and a[j] > t:\n",
    "            a[j + 1] = a[j]\n",
    "            j -= 1\n",
    "        a[j + 1] = t\n",
    "    return a\n",
    "\n",
    "insertion_sort([4,3,2,1])  "
   ]
  },
  {
   "cell_type": "markdown",
   "metadata": {},
   "source": [
    "1. Na jakých datech provede Insertsort pouze jeden lineární průchod (vnitřní cyklus se neprovede)?\n",
    "2. Kolik přesně průchodů vykoná nad sestupně uspořádaným vstupem?\n",
    "3. Určete, jakou složitost bude mít Insertsort, pokud víme, že se setříděním každý prvek\n",
    "posune nejvýše o k pozic.\n",
    "4. Předpokládejme na chvíli, že by počítač, na kterém běží naše programy, uměl provést\n",
    "operaci posunutí celého úseku pole o 1 prvek na libovolnou stranu v konstantním\n",
    "čase. Řekli bychom například, že chceme prvky na pozicích 42 až 54 posunout o 1\n",
    "doprava (tj. na pozice 43 až 55), a počítač by to uměl provést v jednom kroku. Zkuste\n",
    "za těchto podmínek upravit Insertsort, aby pracoval s časovou složitostí O(n log n).\n",
    "5. Navrhněte pro úlohu 3. efektivnější algoritmus. Můžete se inspirovat třeba\n",
    "Heapsortem."
   ]
  },
  {
   "cell_type": "markdown",
   "metadata": {},
   "source": [
    "__Datové struktury__\n",
    "\n",
    "* Napište funkci v pythonu, která pro zadanou posloupnost znaků (, ), [ a ] vrátí True, když je korektním uzávorkováním jinak vrátí False. **Hint**: Použijte zásobník."
   ]
  },
  {
   "cell_type": "code",
   "execution_count": null,
   "metadata": {},
   "outputs": [
    {
     "data": {
      "text/plain": [
       "False"
      ]
     },
     "execution_count": 12,
     "metadata": {},
     "output_type": "execute_result"
    }
   ],
   "source": [
    "def is_correct_par(popen, pclose):\n",
    "    return popen == '(' and pclose == ')' or popen == '[' and pclose == ']'\n",
    "\n",
    "def is_correct_bracketing(s):\n",
    "    stack = []\n",
    "    for p in s:\n",
    "        if p in ['(', '[']:\n",
    "            stack.append(p)\n",
    "        else:\n",
    "            if len(stack) == 0:\n",
    "                return False\n",
    "            top = stack[-1]\n",
    "            del stack[-1] # or stack.pop()\n",
    "            if not is_correct_par(top, p):\n",
    "                return False\n",
    "    \n",
    "    return len(stack) == 0\n",
    "\n",
    "is_correct_bracketing(\"()[(])\")"
   ]
  },
  {
   "cell_type": "code",
   "execution_count": null,
   "metadata": {},
   "outputs": [],
   "source": []
  }
 ],
 "metadata": {
  "kernelspec": {
   "display_name": ".venv",
   "language": "python",
   "name": "python3"
  },
  "language_info": {
   "codemirror_mode": {
    "name": "ipython",
    "version": 3
   },
   "file_extension": ".py",
   "mimetype": "text/x-python",
   "name": "python",
   "nbconvert_exporter": "python",
   "pygments_lexer": "ipython3",
   "version": "3.10.12"
  },
  "orig_nbformat": 4
 },
 "nbformat": 4,
 "nbformat_minor": 2
}
