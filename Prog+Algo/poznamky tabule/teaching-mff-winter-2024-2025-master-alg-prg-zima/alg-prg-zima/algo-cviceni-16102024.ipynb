{
 "cells": [
  {
   "cell_type": "markdown",
   "metadata": {},
   "source": [
    "# NPRG062 Algoritmizace – cvičení - 16.10.2024"
   ]
  },
  {
   "cell_type": "markdown",
   "metadata": {},
   "source": [
    "__Motivace__:\n",
    "\n",
    "* https://www.infoq.com/presentations/Simple-Made-Easy/ - till 8, 29:00\n",
    "* https://www.youtube.com/watch?v=ctUiBVT142Y&ab_channel=BlackFlag-Topic\n",
    "* https://upload.wikimedia.org/wikipedia/commons/a/a5/Tsunami_by_hokusai_19th_century.jpg\n",
    "* https://www.youtube.com/watch?v=sZmWGJDsBWs&ab_channel=TheSelecter-Official"
   ]
  },
  {
   "cell_type": "markdown",
   "metadata": {},
   "source": [
    "__Definice__: Nechť f, g : N → R jsou dvě funkce. Řekneme, že funkce f(n) je třídy O(g(n)),\n",
    "jestliže existuje taková kladná reálná konstanta c, že pro skoro všechna n platí f(n) ≤\n",
    "cg(n). Skoro všemi n se myslí, že nerovnost může selhat pro konečně mnoho výjimek, tedy\n",
    "že existuje nějaké přirozené n0 takové, že nerovnost platí pro všechna n ≥ n0. Funkci g(n)\n",
    "se pak říká asymptotický horní odhad funkce f(n).\n"
   ]
  },
  {
   "cell_type": "markdown",
   "metadata": {},
   "source": [
    "__Problémy__:\n",
    "* Ukažte, že pro libovolnou konstantu c > 0 platí c = O(1) \n",
    "* Ukažte, že pro libovolnou konstantu c > 0 platí c*f = O(f)\n",
    "* Ukažte, že n^2 + n = O(n^2)\n",
    "* Ukažte, že nlog(n) = O(n^2)\n",
    "* Dokažte, že n log n != O(n)"
   ]
  },
  {
   "cell_type": "markdown",
   "metadata": {},
   "source": [
    "__Problémy__:\n",
    "* Dokažte: Nechť f(n) = f1(n) + f2(n) a f1(n) ∈ O(f2(n)). Pak f(n) ∈ O(f2(n)).\n",
    "* Platí, že:\n",
    "  - 1/n = O(1/n^3), n > 0 ? \n",
    "  - 2^(n+1) = O(2^n) ?\n",
    "  - 2^(2n) = O(2^n) ?\n",
    "  - log_2(n) = O(log_4(n)), n > 0 ?\n",
    "\n",
    "* Setřiďte podle rychlosti stoupání pro vellká n: n*log(2n), log_10(n), 10^n, n^10, 10n, 100, n^2, log(n!), n!\n",
    "\n"
   ]
  },
  {
   "cell_type": "markdown",
   "metadata": {},
   "source": []
  }
 ],
 "metadata": {
  "kernelspec": {
   "display_name": "Python 3.8.10 64-bit",
   "language": "python",
   "name": "python3"
  },
  "language_info": {
   "name": "python",
   "version": "3.8.10"
  },
  "orig_nbformat": 4,
  "vscode": {
   "interpreter": {
    "hash": "916dbcbb3f70747c44a77c7bcd40155683ae19c65e1c03b4aa3499c5328201f1"
   }
  }
 },
 "nbformat": 4,
 "nbformat_minor": 2
}
