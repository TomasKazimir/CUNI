{
 "cells": [
  {
   "cell_type": "markdown",
   "metadata": {},
   "source": [
    "# NPRG062 Algoritmizace – cvičení - 9.10.2024"
   ]
  },
  {
   "cell_type": "markdown",
   "metadata": {},
   "source": [
    "__Algoritmus__ - je přesný návod či postup, kterým lze vyřešit daný typ úlohy. (https://cs.wikipedia.org/wiki/Algoritmus)\n",
    "\n",
    "__Komplexita__ - being intertwined, being tied together.  (https://en.wikipedia.org/wiki/Complexity)"
   ]
  },
  {
   "cell_type": "markdown",
   "metadata": {},
   "source": [
    "__Motivace__:\n",
    "\n",
    "* https://www.youtube.com/watch?v=JR93X7xK05o&t=353s&ab_channel=SantaFeInstitute (cca 5-10m)\n",
    "* https://www.youtube.com/watch?v=doLaSVWABrw&ab_channel=HelenGuzman\n",
    "* https://www.youtube.com/watch?v=pIUjxzdf2Cw&ab_channel=RedArrow\n",
    "* https://www.youtube.com/watch?v=fJ9rUzIMcZQ&ab_channel=QueenOfficial\n",
    "* https://www.youtube.com/watch?v=bZwxTX2pWmw&ab_channel=GuilhermeAlves"
   ]
  },
  {
   "cell_type": "markdown",
   "metadata": {},
   "source": [
    "__Problém 1__\n",
    "\n",
    "Jsou dány rovnoramenné váhy a 8 kuliček. Všechny až na jednu váží stejně (ta je lehčí). Navrhněte program v pythonu, který bude zobrazovat postup jak najít rozdílnou kuličku na co nejmenší počet vážení."
   ]
  },
  {
   "cell_type": "markdown",
   "metadata": {},
   "source": [
    "__Problém 2__:\n",
    "\n",
    "Jsou dány rovnoramenné váhy a `n` kuliček (bude zadáno uživatelem). Všechny až na jednu váží stejně (ta je lehčí). Navrhněte program v pythonu, který zobrazí postup (zobecněním předchozího) jak najít rozdílnou kuličku na co nejmenší počet vážení. Jako prvnín vstup bude počet kuliček."
   ]
  },
  {
   "cell_type": "markdown",
   "metadata": {},
   "source": [
    "__Komplexita__"
   ]
  },
  {
   "cell_type": "markdown",
   "metadata": {},
   "source": [
    "Kolik hvězdiček se vytiskne?"
   ]
  },
  {
   "cell_type": "code",
   "execution_count": 1,
   "metadata": {},
   "outputs": [
    {
     "name": "stdout",
     "output_type": "stream",
     "text": [
      "*\n",
      "*\n",
      "*\n",
      "*\n"
     ]
    }
   ],
   "source": [
    "# Algo 1\n",
    "n = int(input())\n",
    "\n",
    "for i in range(1,n+1):\n",
    "    for j in range(1, n+1):\n",
    "        print(\"*\")"
   ]
  },
  {
   "cell_type": "markdown",
   "metadata": {},
   "source": [
    "Vnější cyklus se provede n-krát, vnořený cyklus pokaždé takén-krát, dohromady tedy n^2 vytištěných hvězdiček."
   ]
  },
  {
   "cell_type": "code",
   "execution_count": 2,
   "metadata": {},
   "outputs": [
    {
     "name": "stdout",
     "output_type": "stream",
     "text": [
      "*\n",
      "*\n",
      "*\n"
     ]
    }
   ],
   "source": [
    "# Algo 2\n",
    "n = int(input())\n",
    "\n",
    "for i in range(1,n+1):\n",
    "    for j in range(1, i+1):\n",
    "        print(\"*\")"
   ]
  },
  {
   "cell_type": "markdown",
   "metadata": {},
   "source": [
    "Pro i = 1 se provede jedenkrát,\n",
    "pro i = 2 dvakrát,\n",
    "a tak dále, až pro i = n se provede n-krát\n",
    "\n",
    "1 + 2 + 3 + . . . + n = n(n + 1)/2"
   ]
  },
  {
   "cell_type": "code",
   "execution_count": null,
   "metadata": {},
   "outputs": [],
   "source": [
    "# Algo 3\n",
    "n = int(input())\n",
    "\n",
    "while n >= 1:\n",
    "    print(\"*\")\n",
    "    n = n // 2"
   ]
  },
  {
   "cell_type": "markdown",
   "metadata": {},
   "source": [
    "V každé iteraci cyklu se n sníží na polovinu. Provedeme-li cyklus k-krát, sníží se hodnota n na n/2^k\n",
    "\n",
    "n / 2^k = 1 -> k = log_2(n)"
   ]
  },
  {
   "cell_type": "code",
   "execution_count": 3,
   "metadata": {},
   "outputs": [
    {
     "name": "stdout",
     "output_type": "stream",
     "text": [
      "*\n"
     ]
    }
   ],
   "source": [
    "# Algo 4\n",
    "n = int(input())\n",
    "\n",
    "while n > 0:\n",
    "    if n%2 == 1:\n",
    "        for i in range(1,n+1):\n",
    "            print(\"*\")\n",
    "    n = n // 2"
   ]
  },
  {
   "cell_type": "markdown",
   "metadata": {},
   "source": [
    "V každé iteraci vnějšího cyklu se n sníží na polovinu a vnořený cyklus se provede pouze tehdy, bylo-li předtím n liché.\n",
    "Jak vypadá nejdelší možný průběh algoritmu?\n",
    "Test na lichost n pokaždé uspěje:\n",
    "n + n/2 + n/4 + n/8 + .... + 1 = n * sum(1/2^i) (geometricka rada sum = 1/(1-q), q = 1/2 ) = 2n"
   ]
  },
  {
   "cell_type": "markdown",
   "metadata": {},
   "source": [
    "| Funkce | n = 10 | n = 100 | n = 1000 | n = 10 000 |\n",
    "|--------|--------|---------|----------|------------|\n",
    "| log n  | 1 (1ns)| 2 (2ns) | 3 (3ns)  | 4 (4ns)    |\n",
    "| n      | 10 (10ns)    | 100 (100ns)    | 1000  (1µs)   | 10 000 (10µs)    |\n",
    "| n log n| 10 (10ns)    | 200 (200ns)    | 3000 (3µs)    | 40 000 (40µs)    |\n",
    "| n^2    | 100 (10ns)   | 10 000 (10µs) | 10^6 (1ms)    | 10^8 (0.1s)      |\n",
    "| n^3    | 1000 (1µs)  | 10^6 (1ms)    | 10^9 (1s)    | 10^12 (16.7 min)   |\n",
    "| 2^n    | 1024 (1µs)  | ≈ 10^31 (10^24 let) | ≈ 10^310 (10^303 let) | ≈ 10^3100 (10^3093 let)  |"
   ]
  },
  {
   "cell_type": "markdown",
   "metadata": {},
   "source": [
    "__Definice__: Nechť f, g : N → R jsou dvě funkce. Řekneme, že funkce f(n) je třídy O(g(n)),\n",
    "jestliže existuje taková kladná reálná konstanta c, že pro skoro všechna n platí f(n) ≤\n",
    "cg(n). Skoro všemi n se myslí, že nerovnost může selhat pro konečně mnoho výjimek, tedy\n",
    "že existuje nějaké přirozené n0 takové, že nerovnost platí pro všechna n ≥ n0. Funkci g(n)\n",
    "se pak říká asymptotický horní odhad funkce f(n).\n",
    "\n",
    "__Definice__: Mějme dvě funkce f, g : N → R. Řekneme, že funkce f(n) je třídy Ω(g(n)),\n",
    "jestliže existuje taková kladná reálná konstanta c, že f(n) ≥ cg(n) pro skoro všechna n.\n",
    "Tomu se říká asymptotický dolní odhad.\n",
    "\n",
    "\n",
    "Úlohy:\n",
    "* Dokažte, že O(f(n) + g(n)) = O(max(f(n), g(n))) pro f, g ≥ 0.\n",
    "* Najděte funkce f a g takové, že neplatí ani f = O(g), ani g = O(f)."
   ]
  },
  {
   "cell_type": "markdown",
   "metadata": {},
   "source": [
    "# Reseni"
   ]
  },
  {
   "cell_type": "code",
   "execution_count": 2,
   "metadata": {},
   "outputs": [
    {
     "name": "stdout",
     "output_type": "stream",
     "text": [
      "Rozdelt kulicky na tri hromady po 3,3,2 kulickach. Zvaz prvni dve hromadky na vaze.\n",
      "Vezmi hromadku, ktera byla lehci. A vezmi prvni dve kulicky a zvaz je.\n",
      "treti kulicka je jina\n"
     ]
    }
   ],
   "source": [
    "# Reseni 1\n",
    "\n",
    "print(\"Rozdelt kulicky na tri hromady po 3,3,2 kulickach. Zvaz prvni dve hromadky na vaze.\")\n",
    "\n",
    "answer = input(\"Jsou porovnavane hromadky stejne tezke? Odpovez y/n\")\n",
    "\n",
    "if answer == \"y\":\n",
    "    print(\"Zvaz kulicky z posledni hromadky\")\n",
    "    answer = input(\"Ktera kulicka je lehci? Odpovez 1/2\")\n",
    "    if answer == \"1\":\n",
    "        print(\"Kulicka 1 z treti hromady je jina.\")\n",
    "    else:\n",
    "        print(\"Kulicka 2 z treti hromadky je jina\")\n",
    "else:\n",
    "    print(\"Vezmi hromadku, ktera byla lehci. A vezmi prvni dve kulicky a zvaz je.\")\n",
    "    answer = input(\"Byli kulicky stejne tezke. Odpovez y/n\")\n",
    "    if answer == \"y\":\n",
    "        print(\"treti kulicka je jina\")\n",
    "    else:\n",
    "        print(\"lehci kulicka z vazenych je jina\")"
   ]
  },
  {
   "cell_type": "code",
   "execution_count": 3,
   "metadata": {},
   "outputs": [],
   "source": [
    "# Reseni 2\n",
    "\n",
    "n = int(input(\"Number of balls: \"))\n",
    "\n",
    "while n > 0:\n",
    "    if n > 3:\n",
    "        m = n // 3 + 1\n",
    "\n",
    "        print(f\"Divide the balls into three piles of {m}, {m}, and {n - 2*m} marbles.\")\n",
    "\n",
    "        answer = input(\n",
    "            \"\"\"Weigh the first two piles. Were the piles of equal weight?\n",
    "Answer y/1/2. y - if the weighing was equal. 1 - if the first pile was lighter. 2 - if the second pile was lighter: \"\"\")\n",
    "        if answer == 'y':\n",
    "            print(\"Discard the first two piles and continue with the third pile.\")\n",
    "            n = n - 2*m\n",
    "        else:\n",
    "            print(f\"Select the {answer}. pile and discard the others.\")\n",
    "            n = m\n",
    "    else:\n",
    "        if n == 3:\n",
    "            answer = input(\n",
    "                \"Weigh the first two bals and answer. y/1/2. y - if the weighing was equal. 1 - if the first ball was lighter. 2 - if the second ball was lighter: \"\n",
    "            )\n",
    "            if answer == \"y\":\n",
    "                print(\"The third ball is different.\")\n",
    "            elif answer == '1':\n",
    "                print(\"The first ball is different.\")\n",
    "            else:\n",
    "                print(\"The second ball is different.\")\n",
    "                n = 0\n",
    "        elif n == 2:\n",
    "            answer = input(\"Weigh two balls and answer which one was lighter (1/2): \")\n",
    "            print(f'The {answer} ball is different.')\n",
    "            n = 0\n",
    "        elif n == 1:\n",
    "            print('The remaining ball is different.')\n",
    "            n = 0"
   ]
  },
  {
   "cell_type": "code",
   "execution_count": null,
   "metadata": {},
   "outputs": [],
   "source": []
  }
 ],
 "metadata": {
  "kernelspec": {
   "display_name": ".venv",
   "language": "python",
   "name": "python3"
  },
  "language_info": {
   "codemirror_mode": {
    "name": "ipython",
    "version": 3
   },
   "file_extension": ".py",
   "mimetype": "text/x-python",
   "name": "python",
   "nbconvert_exporter": "python",
   "pygments_lexer": "ipython3",
   "version": "3.10.12"
  },
  "orig_nbformat": 4
 },
 "nbformat": 4,
 "nbformat_minor": 2
}
