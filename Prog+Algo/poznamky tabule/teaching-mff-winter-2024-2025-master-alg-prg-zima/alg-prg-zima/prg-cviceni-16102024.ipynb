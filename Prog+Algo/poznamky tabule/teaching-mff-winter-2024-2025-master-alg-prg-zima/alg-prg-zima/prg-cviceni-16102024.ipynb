{
 "cells": [
  {
   "cell_type": "markdown",
   "metadata": {},
   "source": [
    "# NPRG030 Programování I – cvičení 16.10.2024"
   ]
  },
  {
   "cell_type": "markdown",
   "metadata": {},
   "source": [
    "Napište program, který přečte řadu vstupních řádků a určí, kolikrát se každé písmeno A-Z objeví na vstupu. Měli byste ignorovat velká a malá písmena a považovat 'a' a 'A' za stejné písmeno. Ignorujte všechny znaky, které nejsou písmeny latinské abecedy. Vstupní text zaručeně obsahuje alespoň jedno písmeno.\n",
    "\n",
    "Program by měl vypsat nejčastější písmeno s počtem jeho výskytů. Měl by také vytisknout histogram zobrazující frekvenci každého písmene jako zlomek všech vstupních písmen, zaokrouhlený nahoru na nejbližší procenta. Pokud je například 3,7 % písmen N, program by měl vytisknout 'n: ****'.\n",
    "\n"
   ]
  },
  {
   "cell_type": "code",
   "execution_count": null,
   "metadata": {},
   "outputs": [],
   "source": [
    "import sys\n",
    "\n",
    "def read_freq():\n",
    "    freq = [0] * (ord('Z') - ord('A') + 1)\n",
    "    nof_chars = 0\n",
    "\n",
    "    for line in sys.stdin:\n",
    "        nof_chars += 1\n",
    "        for c in line.upper():\n",
    "            nof_chars += 1\n",
    "            if ord('A') <= ord(c) <= ord('Z'):\n",
    "                freq[ord(c) - ord('A')] += 1\n",
    "\n",
    "    return freq, nof_chars\n",
    "\n",
    "def max_leter(freq):\n",
    "    ma = freq[0]\n",
    "    idx = 0\n",
    "    for i, f in enumerate(freq):\n",
    "        if f > ma:\n",
    "            ma = f\n",
    "            idx = i\n",
    "\n",
    "    return idx, ma\n",
    "\n",
    "def print_histogram(freq, nof_chars):\n",
    "    for i, f in enumerate(freq):\n",
    "        print(f\"{chr(ord('A')+i)} {'*'*(round(100 * f / nof_chars))}\")\n",
    "\n",
    "freq, nof_chars = read_freq()\n",
    "idx, f = max_leter(freq)\n",
    "\n",
    "print(f\"Most frequent letter: {chr(ord('A')+idx)} ({f})\")\n",
    "print(nof_chars, freq)\n",
    "print_histogram(freq, nof_chars)"
   ]
  },
  {
   "cell_type": "markdown",
   "metadata": {},
   "source": [
    "__Problémy__:"
   ]
  },
  {
   "cell_type": "markdown",
   "metadata": {},
   "source": [
    "\n",
    "1. v setříděném poli určit počet výskytů dané hodnoty x\n",
    "2. v setříděném poli nalézt všechny prvky s danou hodnotou x (jejich první a poslední index v poli)\n",
    "3. v setříděném poli nalézt prvek s hodnotu x (pokud tam je) nebo nejbližší vyšší (pokud tam žádné x není)."
   ]
  },
  {
   "cell_type": "code",
   "execution_count": 6,
   "metadata": {},
   "outputs": [
    {
     "data": {
      "text/plain": [
       "4"
      ]
     },
     "execution_count": 6,
     "metadata": {},
     "output_type": "execute_result"
    }
   ],
   "source": [
    "def bin_search(array, x, lower_index = None, upper_index = None):\n",
    "    low = lower_index or 0              # začátek úseku\n",
    "    hi = upper_index or len(array) - 1  # konec úseku\n",
    "    mid = (low + hi) // 2               # střed úseku\n",
    "    while low <= hi:\n",
    "        if array[mid] == x:\n",
    "            return mid\n",
    "        if x > array[mid]:\n",
    "            low = mid + 1\n",
    "        else:\n",
    "            hi = mid - 1\n",
    "        mid = (low + hi) // 2\n",
    "    return hi, low\n",
    "\n",
    "def bound(array, x, low, hi, delta):\n",
    "    mid = (low + hi) // 2\n",
    "    while low <= hi:\n",
    "        if array[mid] == x:\n",
    "            if (mid == 0\n",
    "                or mid == len(array) - 1\n",
    "                or array[mid + delta] != x):\n",
    "                return mid\n",
    "            else:\n",
    "                if delta < 0:\n",
    "                    hi = mid - 1\n",
    "                else:\n",
    "                    low = mid + 1\n",
    "        elif x > array[mid]:\n",
    "            low = mid + 1\n",
    "        else:\n",
    "            hi = mid - 1\n",
    "        mid = (low + hi) // 2\n",
    "    return (hi, low)\n",
    "\n",
    "\n",
    "def count(array, x):\n",
    "    idx = bin_search(array, x)\n",
    "    if type(idx) != int:\n",
    "        return 0\n",
    "    min_idx = bound(array, x, 0, idx, -1)\n",
    "    max_idx = bound(array, x, idx, len(array)-1, 1)\n",
    "    return max_idx - min_idx + 1\n",
    "\n",
    "a = [1,1,1,2,4,5,6,6,6,6]\n",
    "\n",
    "count(a,6)"
   ]
  },
  {
   "cell_type": "markdown",
   "metadata": {},
   "source": [
    "\n",
    "4. Přečtěte ze vstupu dvě čísla n a k. Na výstup vypište supečíslo čísla, která vznikne spojením k čísel n za sebe.\n",
    "\n",
    "   Př. n = 123, k = 4 -> sč(123123123123) = 6\n",
    "\n",
    "5. Představte si, že jste vzali všechna celá čísla mezi n a m (bez n a m, n < m) a spojili je dohromady. Kolik číslic byste měli? Napište program, která vezme dvě čísla ze vstupu a vytiskne na výstup kolik číslic výsledné číslo obsahuje. Všimněte si, že čísla mohou být velmi velká, takže není možné vytvořit řetězec v obecném případě.\n",
    "\n",
    "   0 1 => 0\n",
    "\n",
    "   0 10 => 9 (1, 2, 3, 4, 5, 6, 7, 8, 9)\n",
    "   \n",
    "   9 100 => 179\n"
   ]
  },
  {
   "cell_type": "markdown",
   "metadata": {},
   "source": [
    "6. Futuristický robot je naprogramován tak, aby přijal posloupnost čísel. Každé číslo je vzdálenost, kterou je třeba ujet v hlavním směru (sever, jih, východ, západ). Začíná směrem k severu na pozici (0, 0), cestuje rovně o vzdálenost uvedenou v prvním čísle, pak se otočí o 90 stupňů ve směru hodinových ručiček, nyní směřuje k východu. Poté se to opakuje s dalším číslem. Vaším úkolem je vypočítat, kde skončí na konci sekvence. Napište funkci, která na vstupu bude mít se posloupnost čísel a vrátí pozici robota po vykonání popsaných akcích.\n",
    "\n",
    "```\n",
    "move([]) ;=> [0 0] ;; No motion\n",
    "move([10]) ;=> [0 10] ;; move 10 straight north\n",
    "move([10 2]) ;=> [2 10]\n",
    "move([10 2 3]) ;=> [2 7]\n",
    "```"
   ]
  },
  {
   "cell_type": "markdown",
   "metadata": {},
   "source": []
  }
 ],
 "metadata": {
  "kernelspec": {
   "display_name": ".venv",
   "language": "python",
   "name": "python3"
  },
  "language_info": {
   "codemirror_mode": {
    "name": "ipython",
    "version": 3
   },
   "file_extension": ".py",
   "mimetype": "text/x-python",
   "name": "python",
   "nbconvert_exporter": "python",
   "pygments_lexer": "ipython3",
   "version": "3.10.12"
  },
  "orig_nbformat": 4
 },
 "nbformat": 4,
 "nbformat_minor": 2
}
