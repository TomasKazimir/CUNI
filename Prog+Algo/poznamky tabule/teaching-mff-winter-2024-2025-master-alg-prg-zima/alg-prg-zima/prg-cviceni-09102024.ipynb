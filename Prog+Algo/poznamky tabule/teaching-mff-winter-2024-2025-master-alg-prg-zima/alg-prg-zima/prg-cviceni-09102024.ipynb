{
 "cells": [
  {
   "cell_type": "markdown",
   "metadata": {},
   "source": [
    "# NPRG030 Programování I – cvičení 9.10.2024"
   ]
  },
  {
   "cell_type": "code",
   "execution_count": 1,
   "metadata": {},
   "outputs": [
    {
     "name": "stdout",
     "output_type": "stream",
     "text": [
      "3.141592653589793\n"
     ]
    }
   ],
   "source": [
    "# 1. Přečtěte ze vstupu poloměr kruhu a vytiskněte na výstup velikost jeho obsahu \n",
    "\n",
    "import math\n",
    "\n",
    "r = int(input())\n",
    "print(r*r*math.pi)"
   ]
  },
  {
   "cell_type": "code",
   "execution_count": 7,
   "metadata": {},
   "outputs": [
    {
     "name": "stdout",
     "output_type": "stream",
     "text": [
      "2.0\n"
     ]
    }
   ],
   "source": [
    "# 2. Čtěte ze vstupu čísla dokud není zadán znak `.` a na výstup vytiskněte průměr číslic\n",
    "\n",
    "suma = 0\n",
    "n = 0\n",
    "\n",
    "c = input()\n",
    "while c != \".\":\n",
    "    suma += int(c)\n",
    "    n += 1\n",
    "    c = input()\n",
    "\n",
    "print(suma / n)"
   ]
  },
  {
   "cell_type": "code",
   "execution_count": 6,
   "metadata": {},
   "outputs": [
    {
     "name": "stdout",
     "output_type": "stream",
     "text": [
      "ne\n",
      "ne\n"
     ]
    }
   ],
   "source": [
    "# 3. Přečtěte ze vstupu číslo a vypište na výstup `ano` pokud je to mocnina (2^n n > 0) dvojky nebo `ne` jinak\n",
    "\n",
    "import math\n",
    "\n",
    "x = int(input())\n",
    "\n",
    "y = math.log2(x)\n",
    "\n",
    "if int(y) == y: # y % 1 == 0:\n",
    "    print(\"ano\")\n",
    "else:\n",
    "    print(\"ne\")\n",
    "\n",
    "# nebo\n",
    "\n",
    "n = 0\n",
    "while x > 0:\n",
    "    if x % 2 == 1:\n",
    "        break\n",
    "    x = x // 2\n",
    "\n",
    "if x > 1:\n",
    "    print(\"ne\")\n",
    "else:\n",
    "    print(\"ano\")"
   ]
  },
  {
   "cell_type": "code",
   "execution_count": 2,
   "metadata": {},
   "outputs": [
    {
     "name": "stdout",
     "output_type": "stream",
     "text": [
      "[0, 1, 1]\n",
      "0\n",
      "1\n",
      "1\n"
     ]
    }
   ],
   "source": [
    "# 4. Přečtěte ze vstupu číslo `n` a vypište na výstup prvních `n` čísel z fibbonachiho řady. f_i = f_(i-1) + f_(i-2), f_1 = 0, f_2 = 1\n",
    "\n",
    "n = int(input())\n",
    "\n",
    "fib = [0,1] # fib[0]\n",
    "\n",
    "for i in range(n-2):\n",
    "    fib.append(fib[-1] + fib[-2])\n",
    "\n",
    "\n",
    "print(fib[:n])\n",
    "\n",
    "# nebo\n",
    "\n",
    "f_2 = 0\n",
    "f_1 = 1\n",
    "\n",
    "print(\"0\\n1\")\n",
    "while (n - 2) > 0:\n",
    "    f_2, f_1 = f_1, f_1 + f_2\n",
    "    print(f_1)\n",
    "    n = n - 1"
   ]
  },
  {
   "cell_type": "code",
   "execution_count": 5,
   "metadata": {},
   "outputs": [
    {
     "name": "stdout",
     "output_type": "stream",
     "text": [
      "binarni: 0b1100101\n",
      "decimalni: 101\n",
      "hexadecimalni: 0x65\n",
      "binary: 1100101\n",
      "decimal: 101\n",
      "hexadecimal: 65\n"
     ]
    }
   ],
   "source": [
    "# 5. Přečtěte ze vstupu číslo a vytisněte jeho binární, desítkový a hexadecimální zápis\n",
    "\n",
    "n = x = int(input())\n",
    "\n",
    "b = bin(x)\n",
    "h = hex(x)\n",
    "\n",
    "print(\"binarni:\", b)\n",
    "print(\"decimalni:\", x)\n",
    "print(\"hexadecimalni:\", h)\n",
    "\n",
    "# nebo\n",
    "\n",
    "s_bin = \"\"\n",
    "s_hex = \"\"\n",
    "\n",
    "k = n\n",
    "x = n\n",
    "\n",
    "# to binary\n",
    "while k > 0:\n",
    "    s_bin = str(k%2) + s_bin\n",
    "    k //= 2\n",
    "\n",
    "# to hex\n",
    "while x > 0:\n",
    "    t = x % 16\n",
    "    if 0 <= t < 10:\n",
    "        s_hex = str(t) + s_hex\n",
    "    else:\n",
    "        s_hex = chr(t - 10 + ord(\"a\")) + s_hex\n",
    "    x //= 16\n",
    "\n",
    "print(\"binary:\", s_bin)\n",
    "print(\"decimal:\", n)\n",
    "print(\"hexadecimal:\", s_hex)"
   ]
  },
  {
   "cell_type": "code",
   "execution_count": 1,
   "metadata": {},
   "outputs": [
    {
     "name": "stdout",
     "output_type": "stream",
     "text": [
      "0\n"
     ]
    }
   ],
   "source": [
    "# 6. Vypočtěte superčíslo zadaného kladného čísla ze vstupu. sč(n) = n pokud n < 10, sč(n) = sč(součet číslic v desítkovém zápisu n),\n",
    "# př. sč(123) = sč(1+2+3) = 6\n",
    "\n",
    "n = input()\n",
    "\n",
    "while True:\n",
    "    soucet = 0\n",
    "\n",
    "    for c in n:\n",
    "        soucet += int(c)\n",
    "    if soucet < 10:\n",
    "        break\n",
    "    n = str(soucet)\n",
    "\n",
    "print(soucet)\n"
   ]
  },
  {
   "cell_type": "code",
   "execution_count": 2,
   "metadata": {},
   "outputs": [
    {
     "name": "stdout",
     "output_type": "stream",
     "text": [
      "27\n"
     ]
    }
   ],
   "source": [
    "n = int(input())\n",
    "\n",
    "soucet = 0\n",
    "while n > 0:\n",
    "    soucet += n % 10\n",
    "    n = n // 10\n",
    "\n",
    "print(soucet)"
   ]
  },
  {
   "cell_type": "markdown",
   "metadata": {},
   "source": [
    "__Problémy__\n",
    "\n",
    "1. Vytvořte program který má na vstupu soubor číslic a číslo reprezentující bázy číselného systému na výstup vytiskne desítkovou reprezentaci.\n",
    "\n",
    "vstup:\n",
    "```\n",
    "1111\n",
    "2\n",
    "```\n",
    "\n",
    "\n",
    "výstup\n",
    "```\n",
    "15\n",
    "```\n",
    "\n",
    "2. Vytvořte program který bude mít na vstupu číslo v desítkové soustavě a bázy ve které budeme chtít číslo vytisknout na výstup\n",
    "vstup:\n",
    "```\n",
    "255\n",
    "16\n",
    "```\n",
    "\n",
    "výstup:\n",
    "```\n",
    "ff\n",
    "```\n",
    "\n",
    "\n",
    "3. Je zadáno celé číslo n a celé číslo k (načtené ze vstupu). Číslo p, je k krat spojených dohromady čísel n. Například:\n",
    "\n",
    "n=123, k=3 -> p=123123123\n",
    "\n",
    "n=32, k=6 -> p=323232323232\n",
    "\n",
    "n=24543, k=125 -> p=245432454324543245432454324543...\n",
    "\n",
    "Nyní vezměte toto číslo p a najděte jeho Superčíslo. Superčíslo je definováno takto:\n",
    "\n",
    "* superčíslo(d) = d, pokud # číslic = 1\n",
    "* superčíslo(d) = superčíslo(součet(číslic d)) jinak\n",
    "\n",
    "To znamená, že pokud má číslo jednu číslici, je superčíslo číslem. (Příklad: superčíslo(4)=4). V opačném případě sečteme číslice a z výsledku vezmeme superčíslo. (Příklad: superčíslo(23)=superčíslo(2+3)=5).\n",
    "\n",
    "Vaším úkolem je napsat program, který vypočítá superčíslo p (n a k). Vypište jej na výstup.\n",
    "\n",
    "Odhadněte časovou složitost vašeho řešení."
   ]
  },
  {
   "cell_type": "markdown",
   "metadata": {},
   "source": [
    "__Philosophical corner__\n",
    "\n",
    "* https://vimeo.com/64895205 (do 4:30)\n",
    "* https://youtu.be/I9LZ6TnSP40\n",
    "* http://norvig.com/21-days.html"
   ]
  },
  {
   "cell_type": "markdown",
   "metadata": {},
   "source": []
  }
 ],
 "metadata": {
  "kernelspec": {
   "display_name": ".venv",
   "language": "python",
   "name": "python3"
  },
  "language_info": {
   "codemirror_mode": {
    "name": "ipython",
    "version": 3
   },
   "file_extension": ".py",
   "mimetype": "text/x-python",
   "name": "python",
   "nbconvert_exporter": "python",
   "pygments_lexer": "ipython3",
   "version": "3.10.12"
  },
  "orig_nbformat": 4
 },
 "nbformat": 4,
 "nbformat_minor": 2
}
