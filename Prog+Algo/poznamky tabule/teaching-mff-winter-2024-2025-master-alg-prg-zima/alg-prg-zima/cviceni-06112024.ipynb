{
 "cells": [
  {
   "cell_type": "markdown",
   "metadata": {},
   "source": [
    "# Cvičení - 6.11.2024"
   ]
  },
  {
   "cell_type": "markdown",
   "metadata": {},
   "source": [
    "__Motivace__:\n",
    "\n",
    "* https://www.youtube.com/watch?v=NdSD07U5uBs&ab_channel=KennethFriedman - 1:00-10:00, 21:45- "
   ]
  },
  {
   "cell_type": "markdown",
   "metadata": {},
   "source": [
    "__Bin halda__\n",
    "* Implementace v poli\n",
    "* Rodič a[i] má děti (pokud existují) a[2*i+1] a a[2*i+2]\n",
    "* Dítě a[i] má rodiče a[(i-1)//2]\n",
    "\n",
    "__Problémy__:\n",
    "* Napište třídu MaxBinaryHeap, která bude implementovat max binární haldu s následujícím interfacem:"
   ]
  },
  {
   "cell_type": "code",
   "execution_count": 14,
   "metadata": {},
   "outputs": [],
   "source": [
    "class MaxBinaryHeap:\n",
    "\n",
    "    def __init__(self):\n",
    "        pass\n",
    "\n",
    "    def max(self):\n",
    "        \"\"\"Returns maximal value\"\"\"\n",
    "        pass\n",
    "\n",
    "    def add(self, value):\n",
    "        \"\"\"Adds new value into heap\"\"\"\n",
    "        pass\n",
    "\n",
    "    def del_max(self):\n",
    "        \"\"\"Delete maximal value from the heap\"\"\"\n",
    "        pass"
   ]
  },
  {
   "cell_type": "code",
   "execution_count": 2,
   "metadata": {},
   "outputs": [],
   "source": [
    "class MaxBinaryHeap:\n",
    "\n",
    "    def __init__(self):\n",
    "        self.data = []\n",
    "\n",
    "    def max(self):\n",
    "        if len(self.data) == 0:\n",
    "            raise Exception(\"Can not get max element on empty heap\")\n",
    "        return self.data[0]\n",
    "\n",
    "    def up(self, i, value):\n",
    "        a = self.data\n",
    "\n",
    "        while i > 0:\n",
    "            j = (i - 1) // 2\n",
    "            if value > a[j]:\n",
    "                a[i] = a[j]\n",
    "                i = j\n",
    "            else:\n",
    "                break\n",
    "        a[i] = value\n",
    "\n",
    "    def add(self, value):\n",
    "        a = self.data\n",
    "        i = len(a)\n",
    "        a.append(value)\n",
    "        \n",
    "        self.up(i, value)\n",
    "\n",
    "    def down(self, i, value):\n",
    "        a = self.data\n",
    "        size = len(a)\n",
    "\n",
    "        while i < size:\n",
    "            j = 2*i+1\n",
    "            k = j + 1 # 2*i+2\n",
    "            if (j < size and value < a[j]) or (k < size and value < a[k]):\n",
    "                if j >= size or k >= size: # one of j,k is out of bound. set both to the index that is in the bound\n",
    "                    j = k if j >= size else j\n",
    "                    k = j\n",
    "                if a[j] < a[k]:\n",
    "                    a[i]= a[k]\n",
    "                    i = k\n",
    "                else:\n",
    "                    a[i] = a[j]\n",
    "                    i = j\n",
    "            else:\n",
    "                break\n",
    "\n",
    "        a[i] = value\n",
    "\n",
    "    def del_max(self):\n",
    "        a = self.data\n",
    "        m = a[0]\n",
    "        last = a[-1]\n",
    "        a.pop()\n",
    "        \n",
    "        if len(a) > 0:\n",
    "            self.down(0, last)\n",
    "        \n",
    "        return m\n",
    "\n",
    "    def del_index(self, index):\n",
    "        a = self.data\n",
    "        m = a[index]\n",
    "        last = a[-1]\n",
    "        a.pop()\n",
    "\n",
    "        self.down(index, last)\n",
    "\n",
    "        return m\n"
   ]
  },
  {
   "cell_type": "code",
   "execution_count": 3,
   "metadata": {},
   "outputs": [
    {
     "name": "stdout",
     "output_type": "stream",
     "text": [
      "6\n",
      "[6, 4, 5, 1, 3, 2]\n",
      "5\n",
      "[5, 4, 2, 1, 3]\n",
      "4\n",
      "[4, 3, 2, 1]\n",
      "3\n",
      "[3, 1, 2]\n",
      "2\n",
      "[2, 1]\n",
      "1\n",
      "[1]\n",
      "6\n",
      "[6, 3, 5, 1, 2]\n"
     ]
    }
   ],
   "source": [
    "h = MaxBinaryHeap()\n",
    "\n",
    "for i in [1,2,3,4,5,6]:\n",
    "    h.add(i)\n",
    "\n",
    "print(h.max())\n",
    "print(h.data)\n",
    "\n",
    "while len(h.data) > 0:\n",
    "    h.del_max()\n",
    "    if len(h.data) > 0:\n",
    "        print(h.max())\n",
    "        print(h.data)\n",
    "\n",
    "for i in [1,2,3,4,5,6]:\n",
    "    h.add(i)\n",
    "\n",
    "h.del_index(1)\n",
    "print(h.max())\n",
    "print(h.data) "
   ]
  },
  {
   "cell_type": "markdown",
   "metadata": {},
   "source": [
    "Napište funkci, která setřídí sestupně pole. Víme, že každý prvek ve vstupním poli je vzdálen od své setříděné pozice max k pozic."
   ]
  },
  {
   "cell_type": "code",
   "execution_count": 7,
   "metadata": {},
   "outputs": [
    {
     "data": {
      "text/plain": [
       "[6, 5, 4, 3, 2, 1]"
      ]
     },
     "execution_count": 7,
     "metadata": {},
     "output_type": "execute_result"
    }
   ],
   "source": [
    "def sort_desc(array, k):\n",
    "    h = MaxBinaryHeap()\n",
    "    \n",
    "    for i in range(min(k, len(array))):\n",
    "        h.add(array[i])\n",
    "    \n",
    "    if k < len(array):\n",
    "        for i in range(k, len(array)):\n",
    "            array[i - k] = h.max()\n",
    "            h.del_max()\n",
    "            h.add(array[i])\n",
    "    \n",
    "    m = len(h.data)\n",
    "    for i in range(m):\n",
    "        array[-(m-i)] = h.max()\n",
    "        h.del_max()\n",
    "\n",
    "    return array\n",
    "\n",
    "sort_desc([4,5,6,1,2,3], 3)"
   ]
  },
  {
   "cell_type": "markdown",
   "metadata": {},
   "source": [
    "Je dáno n lan různých délek. úkol je spojit je do jednoho lana. Náklady na spojení dvou lan se rovnají součtu jejich délek. Najděte minimální náklady na spojení všech lan."
   ]
  },
  {
   "cell_type": "code",
   "execution_count": 16,
   "metadata": {},
   "outputs": [
    {
     "data": {
      "text/plain": [
       "15"
      ]
     },
     "execution_count": 16,
     "metadata": {},
     "output_type": "execute_result"
    }
   ],
   "source": [
    "import heapq\n",
    "\n",
    "def min_rope_cost(ropes):\n",
    "    heapq.heapify(ropes)\n",
    "    while len(ropes) > 1:\n",
    "        c = heapq.heappop(ropes) + heapq.heappop(ropes)\n",
    "        heapq.heappush(ropes, c)\n",
    "    return heapq.heappop(ropes)\n",
    "\n",
    "min_rope_cost([1,2,3,4,5])"
   ]
  },
  {
   "cell_type": "markdown",
   "metadata": {},
   "source": [
    "Na vstupu dostáváte posloupnost N čísel = teploty naměřené v\n",
    "jednotlivých dnech, každý den dostanete jedno nové měření. Každý den\n",
    "určete a vypište maximální teplotu za posledních K dnů. Chceme co\n",
    "nejefektivnější řešení vzhledem ke K a N (tady se dá využít fronta, nebo\n",
    "halda, nebo oboje zároveň, nebo deque - vede to k řešením s různou\n",
    "efektivitou)."
   ]
  },
  {
   "cell_type": "code",
   "execution_count": null,
   "metadata": {},
   "outputs": [
    {
     "data": {
      "text/plain": [
       "[1, 2, 3, 4, 5, 6, 7, 8, 9, 9, 9, 9, 9, 9, 5, 6, 7, 8, 9]"
      ]
     },
     "execution_count": 1,
     "metadata": {},
     "output_type": "execute_result"
    }
   ],
   "source": [
    "from collections import deque\n",
    "\n",
    "def max_temp(temps, k):\n",
    "    q = deque()\n",
    "    mts = []\n",
    "    \n",
    "    for t in temps:\n",
    "        q.append(t)\n",
    "        mt = max(q)\n",
    "        mts.append(mt)\n",
    "        if len(q) > k:\n",
    "            q.popleft()\n",
    "    \n",
    "    return mts\n",
    "\n",
    "max_temp([1,2,3,4,5,6,7,8,9,0,1,2,3,4,5,6,7,8,9], 5)"
   ]
  },
  {
   "cell_type": "markdown",
   "metadata": {},
   "source": [
    "Napiste program, ktery bude umet hrat hru hangman."
   ]
  },
  {
   "cell_type": "markdown",
   "metadata": {},
   "source": []
  }
 ],
 "metadata": {
  "kernelspec": {
   "display_name": ".venv",
   "language": "python",
   "name": "python3"
  },
  "language_info": {
   "codemirror_mode": {
    "name": "ipython",
    "version": 3
   },
   "file_extension": ".py",
   "mimetype": "text/x-python",
   "name": "python",
   "nbconvert_exporter": "python",
   "pygments_lexer": "ipython3",
   "version": "3.10.12"
  },
  "orig_nbformat": 4
 },
 "nbformat": 4,
 "nbformat_minor": 2
}
