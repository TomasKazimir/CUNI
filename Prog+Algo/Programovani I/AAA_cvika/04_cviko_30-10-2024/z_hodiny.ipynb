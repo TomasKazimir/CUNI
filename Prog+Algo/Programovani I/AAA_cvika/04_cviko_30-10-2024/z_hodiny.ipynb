{
 "cells": [
  {
   "cell_type": "markdown",
   "metadata": {},
   "source": [
    "# NPRG030 Programování I – cvičení 30.10.2024\n",
    "\n",
    "* immediate cconnection to the thing you're creating\n",
    "    * hot reloading\n",
    "* visualgo.net\n"
   ]
  },
  {
   "cell_type": "markdown",
   "metadata": {},
   "source": [
    "### Problem \n",
    ">funkce (pole velikosti N-1) kde jsou cisla 1-N ale jedno chybi \\\n",
    ">fce by mela vratit chybejici cislo, nejhure v O(logN)"
   ]
  },
  {
   "cell_type": "code",
   "execution_count": null,
   "metadata": {},
   "outputs": [],
   "source": [
    "def najdi_chybejici(l: list):\n",
    "    low = 0\n",
    "    high = len(l) - 1\n",
    "    mid = (low + high)//2\n",
    "    while low != high:\n",
    "        print(low, mid, high)\n",
    "        if mid + 1 == l[mid]:\n",
    "            low = mid + 1\n",
    "        else:\n",
    "            high = mid\n",
    "        mid = (low + high)//2\n",
    "        \n",
    "    return low + 1\n",
    "    \n",
    "l = [i + 1 for i in range(100)]\n",
    "l.pop(20)\n",
    "\n",
    "print(l)\n",
    "print(najdi_chybejici(l))\n",
    "\n",
    "            "
   ]
  },
  {
   "cell_type": "markdown",
   "metadata": {},
   "source": [
    "### Problem 2"
   ]
  },
  {
   "cell_type": "code",
   "execution_count": null,
   "metadata": {},
   "outputs": [],
   "source": [
    "\"\"\"\n",
    "f(x) je monotonni tedy f(x) <= f(y) kdyz x < y  (pr x^3)\n",
    "\n",
    "mame k, najdete nejvetsi n takove ze f(n) <= k\n",
    "\n",
    "... f(n) <= k\n",
    "hledam x takove ze f(x) = k\n",
    "n = x - 1\n",
    "\n",
    "\"\"\"\n",
    "\n",
    "def a(x):\n",
    "    return x**3\n",
    "\n",
    "def najdi(f, k):\n",
    "    # print(\"hledam n takove ze f(n) je <= \" + str(k))\n",
    "    lo = -1\n",
    "    hi =  1\n",
    "    \n",
    "    while f(lo) > k or f(hi) < k:\n",
    "        if f(lo) > k:\n",
    "            lo = lo * 2\n",
    "        if f(hi) < k:\n",
    "            hi = hi * 2\n",
    "    print(\"lo:\", lo, \"hi\", hi)\n",
    "    \n",
    "    mid = (lo + hi)//2\n",
    "    while lo <= hi:\n",
    "        if f(mid) == k:\n",
    "            return k\n",
    "        if f(mid) < k:\n",
    "            lo = mid + 1\n",
    "        else:\n",
    "            hi = mid - 1\n",
    "        mid = (lo + hi)//2\n",
    "        # print(lo, mid, hi)\n",
    "    return hi\n",
    "    \n",
    "    \n",
    "for k in range(100):\n",
    "    k = 100\n",
    "    n = najdi(a, k)\n",
    "    print(n, k, a(n) <= k)"
   ]
  },
  {
   "cell_type": "markdown",
   "metadata": {},
   "source": [
    "## Trideni"
   ]
  },
  {
   "cell_type": "code",
   "execution_count": null,
   "metadata": {},
   "outputs": [],
   "source": [
    "def bubble_sort_simple(lst):\n",
    "    run = True\n",
    "    while run:\n",
    "        run = False\n",
    "        for i in range(len(lst) - 1):\n",
    "            if lst[i] > lst[i + 1]:\n",
    "                lst[i], lst[i+1] = lst[i+1], lst[i]\n",
    "                run = True\n",
    "    return lst\n",
    "\n",
    "l = [1, 4, 5, 3, 2]\n",
    "print(bubble_sort_simple(l))"
   ]
  },
  {
   "cell_type": "markdown",
   "metadata": {},
   "source": [
    "* kdy jen jeden pruchod? serazena data\n",
    "* kolik pruchodu na sestupne serazenych datech? n^2\n"
   ]
  },
  {
   "cell_type": "code",
   "execution_count": null,
   "metadata": {},
   "outputs": [],
   "source": [
    "def insert_sort(lst):\n",
    "    n = len(lst)\n",
    "    for i in range(n):\n",
    "        t = lst[i]\n",
    "        j = i - 1\n",
    "        while j >= 0 and lst[j] > t:\n",
    "            lst[j+1] = lst[j]\n",
    "            j -= 1\n",
    "        lst[j + 1] = t\n",
    "        print(lst)\n",
    "    return lst\n",
    "\n",
    "print(insert_sort([4,3,2,1]))"
   ]
  },
  {
   "cell_type": "markdown",
   "metadata": {},
   "source": [
    "* jeden pruchod? na setrizenem\n",
    "* slozitost kdyz se kazdy prvek posune o nejvice k pozic\n"
   ]
  },
  {
   "cell_type": "markdown",
   "metadata": {},
   "source": [
    "## Datove struktury\n",
    "* napis funkci, ktera pro vstupni posloupnost ()[] vrati true, kdyz je uzavorkovani spravne, jinak False\n",
    "* tip: pouzij zasobnik"
   ]
  },
  {
   "cell_type": "code",
   "metadata": {
    "ExecuteTime": {
     "end_time": "2024-12-04T15:13:26.632424Z",
     "start_time": "2024-12-04T15:13:26.616277Z"
    }
   },
   "source": [
    "def is_correct(zavorky: str):\n",
    "    stack = []\n",
    "    for char in zavorky:\n",
    "        # print(*zasobnik)\n",
    "        if char in \"([{\":\n",
    "            stack.append(char)\n",
    "        else:\n",
    "            if len(stack) == 0:\n",
    "                return False\n",
    "            if char == \")\" and stack[-1] == \"(\" or char == \"]\" and stack[-1] == \"[\" or char == \"}\" and stack[-1] == \"{\":\n",
    "                stack.pop()\n",
    "            else:\n",
    "                return False\n",
    "    return len(stack) == 0\n",
    "\n",
    "print(is_correct(\"(((])))\"))\n",
    "print(is_correct(\"([(({([])}(){[[{()}]]}))])\"))\n",
    "print(is_correct(\"([[[([{()}{[]}([])])]]])\"))\n",
    "print(is_correct(\"{\"))\n",
    "print(is_correct(\"]()\"))\n",
    "            "
   ],
   "outputs": [
    {
     "name": "stdout",
     "output_type": "stream",
     "text": [
      "False\n",
      "True\n",
      "True\n",
      "False\n",
      "False\n"
     ]
    }
   ],
   "execution_count": 1
  }
 ],
 "metadata": {
  "kernelspec": {
   "display_name": "Python 3",
   "language": "python",
   "name": "python3"
  },
  "language_info": {
   "codemirror_mode": {
    "name": "ipython",
    "version": 3
   },
   "file_extension": ".py",
   "mimetype": "text/x-python",
   "name": "python",
   "nbconvert_exporter": "python",
   "pygments_lexer": "ipython3",
   "version": "3.12.7"
  }
 },
 "nbformat": 4,
 "nbformat_minor": 2
}
