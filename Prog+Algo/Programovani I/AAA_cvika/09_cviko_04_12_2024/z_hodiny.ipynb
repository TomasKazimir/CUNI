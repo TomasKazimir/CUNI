{
 "cells": [
  {
   "metadata": {},
   "cell_type": "markdown",
   "source": [
    "# NPRG030 Programování I – cvičení 4.12.2024\n",
    "\n",
    "### Problem: bludiste\n",
    "```\n",
    "  ######\n",
    "# #    #\n",
    "# ##   #\n",
    "#  # # #\n",
    "#    # #\n",
    "######  \n",
    "```"
   ],
   "id": "a44b005f46cc69d5"
  },
  {
   "metadata": {},
   "cell_type": "code",
   "outputs": [],
   "execution_count": null,
   "source": [
    "from typing import Callable\n",
    "\n",
    "\n",
    "def get_neighbours(pos, size):\n",
    "    \"\"\"return positions of valid neighbors\"\"\"\n",
    "    ns = []\n",
    "    for delta in [(0, 1), (0, -1), (1, 0), (-1, 0)]:\n",
    "        x = pos[0] + delta[0]\n",
    "        y = pos[1] + delta[1]\n",
    "        if 0 <= x < size[0] and 0 <= y < size[1]:\n",
    "            ns.append((x, y))\n",
    "    return ns\n",
    "\n",
    "def bfs(maze, visited, back, start, end):\n",
    "    size = (len(maze), len(maze[0]))\n",
    "    queue = [start]\n",
    "    while queue:\n",
    "        node = queue.pop(0)\n",
    "        if visited[node[0]][node[1]]:\n",
    "            continue\n",
    "        visited[node[0]][node[1]] = 1\n",
    "        if node == end:\n",
    "            break\n",
    "        for neighbour in get_neighbours(node, size):\n",
    "            if visited[neighbour[0]][neighbour[1]] == 0 and maze[neighbour[0]][neighbour[1]] == 1:\n",
    "                back[neighbour[0]][neighbour[1]] = node\n",
    "                queue.append(neighbour)"
   ],
   "id": "c7d3e3b009549e71"
  },
  {
   "metadata": {},
   "cell_type": "markdown",
   "source": [
    "obecne:\n",
    "\n",
    "pocatecni stav, konecny stav\n",
    "\n",
    "funkce, ktera mi z momentalniho stavu da sousedni stavy\n",
    "\n",
    "funkce, ktera rozhodne o ekvivalenci dvou stavu"
   ],
   "id": "bd3562537f57e2c8"
  },
  {
   "metadata": {
    "ExecuteTime": {
     "end_time": "2024-12-04T13:51:09.917365Z",
     "start_time": "2024-12-04T13:51:09.912229Z"
    }
   },
   "cell_type": "code",
   "source": [
    "from collections import deque\n",
    "from typing import Callable\n",
    "\n",
    "\n",
    "# obecna implementace prohledavani stavoveho prostoru\n",
    "def solve(start, end, neigh_fn: Callable, state_eq: Callable, state_key: Callable):\n",
    "    visited = {}\n",
    "    back = {}\n",
    "    q = deque([start])\n",
    "    found = False\n",
    "    while q:\n",
    "        state = q.popleft()\n",
    "        visited[state_key(state)] = True\n",
    "        if state_eq(state, end):\n",
    "            found = True\n",
    "            break\n",
    "        \n",
    "        for neighbour in neigh_fn(state):\n",
    "            if visited.get(state_key(neighbour), False):\n",
    "                continue\n",
    "            back[state_key(neighbour)] = state\n",
    "            q.append(neighbour)\n",
    "    \n",
    "    if found:\n",
    "        b = end\n",
    "        path = []\n",
    "        while b != start:\n",
    "            path.append(b)\n",
    "            b = back[state_key(b)]\n",
    "        path.append(start)\n",
    "        path.reverse()\n",
    "        return path\n",
    "    return [None]\n"
   ],
   "id": "2ca5e22460eb8f79",
   "outputs": [],
   "execution_count": 23
  },
  {
   "metadata": {
    "ExecuteTime": {
     "end_time": "2024-12-04T13:24:31.003969Z",
     "start_time": "2024-12-04T13:24:30.997961Z"
    }
   },
   "cell_type": "code",
   "source": [
    "# konkretni implementace funkci neigh_fn, state_eq, state_key \n",
    "# pro problem skakani kone pro sachovnici\n",
    "\n",
    "def knight_neigh_fn(state):\n",
    "    state_x, state_y = state\n",
    "    neigh = []\n",
    "    for dx, dy in [( 2, 1), ( 2, -1),\n",
    "                   (-2, 1), (-2, -1),\n",
    "                   ( 1, 2), ( 1, -2),\n",
    "                   (-1, 2), (-1, -2)]:\n",
    "        x = state_x + dx\n",
    "        y = state_y + dy\n",
    "        if 1 <= x <= 8 and 0 <= y <= 8:\n",
    "            neigh.append((x, y))\n",
    "    return neigh\n",
    "\n",
    "def state_eq(state1, state2):\n",
    "    return state1[0] == state2[0] and state1[1] == state2[1]\n",
    "    # nebo proste... return state1 == state2\n",
    "\n",
    "def state_key(state):\n",
    "    return state[0] * 10 + state[1]\n",
    "\n",
    "print(solve(start=(1, 1),\n",
    "            end=(4, 6),\n",
    "            neigh_fn=knight_neigh_fn,\n",
    "            state_eq=state_eq,\n",
    "            state_key=state_key))\n"
   ],
   "id": "a46bd150da99fc25",
   "outputs": [
    {
     "name": "stdout",
     "output_type": "stream",
     "text": [
      "[(1, 1), (2, 3), (1, 5), (2, 7), (4, 6)]\n"
     ]
    }
   ],
   "execution_count": 15
  },
  {
   "metadata": {
    "ExecuteTime": {
     "end_time": "2024-12-04T13:19:39.470079Z",
     "start_time": "2024-12-04T13:19:39.466089Z"
    }
   },
   "cell_type": "code",
   "source": [
    "# zmena:\n",
    "# sudy tah\n",
    "# lichy tah ... pouze o policko nahoru"
   ],
   "id": "52946b2969e7c3e8",
   "outputs": [],
   "execution_count": 12
  },
  {
   "metadata": {
    "ExecuteTime": {
     "end_time": "2024-12-04T13:31:09.780114Z",
     "start_time": "2024-12-04T13:31:09.774053Z"
    }
   },
   "cell_type": "code",
   "source": [
    "def knight_neigh_fn(state):\n",
    "    state_x, state_y, state_parity = state\n",
    "    neigh = []\n",
    "    if state_parity % 2 == 0:\n",
    "        for dx, dy in [( 2, 1), ( 2, -1),\n",
    "                       (-2, 1), (-2, -1),\n",
    "                       ( 1, 2), ( 1, -2),\n",
    "                       (-1, 2), (-1, -2)]:\n",
    "            x = state_x + dx\n",
    "            y = state_y + dy\n",
    "            if 1 <= x <= 8 and 0 <= y <= 8:\n",
    "                neigh.append((x, y, state_parity + 1))\n",
    "    else:\n",
    "        if 1 <= state_y + 1 <= 8:\n",
    "            neigh.append((state_x, state_y + 1, state_parity + 1))\n",
    "    return neigh\n",
    "\n",
    "def state_eq(state1, state2):\n",
    "    return state1[0] == state2[0] and state1[1] == state2[1]\n",
    "    # nebo proste... return state1 == state2\n",
    "\n",
    "def state_key(state):\n",
    "    return state[0] * 10 + state[1]\n",
    "\n",
    "print(solve(start=(1, 1, 0),\n",
    "            end=(4, 6, \"x\"),\n",
    "            neigh_fn=knight_neigh_fn,\n",
    "            state_eq=state_eq,\n",
    "            state_key=state_key))"
   ],
   "id": "fd23693eb5859cff",
   "outputs": [
    {
     "name": "stdout",
     "output_type": "stream",
     "text": [
      "[(1, 1, 0), (2, 3, 1), (2, 4, 2), (4, 5, 3), (4, 6, 'x')]\n"
     ]
    }
   ],
   "execution_count": 17
  },
  {
   "metadata": {
    "ExecuteTime": {
     "end_time": "2024-12-04T15:25:47.061164Z",
     "start_time": "2024-12-04T15:25:47.029145Z"
    }
   },
   "cell_type": "code",
   "source": [
    "# prelevani mezi kbeliky A, B, C\n",
    "# info:\n",
    "# pocatecni objem vody v kazdem kbeliku\n",
    "# cilovy objem v kazdem kbeliku\n",
    "# apacita kbeliku\n",
    "# pravidla:\n",
    "# bud kbelik uplne vyleju do dalsiho\n",
    "# nebo liji do maximalni kapacity ciloveho kbeliku\n",
    "\n",
    "state = ((\"objem v A\", \"kapacita A\"),\n",
    "         (\"objem v B\", \"kapacita B\"), \n",
    "         (\"objem v C\", \"kapacita C\"),\n",
    "         \"X->X\")\n",
    "\n",
    "def get_neigh_fn(state):\n",
    "    a, max_a = state[0]\n",
    "    b, max_b = state[1]\n",
    "    c, max_c = state[2]\n",
    "    \n",
    "    neigh = []\n",
    "    if a > 0:\n",
    "        if b + a <= max_b:\n",
    "            neigh.append(((0, max_a), (b + a, max_b), (c, max_c), \"A->B\"))\n",
    "        elif b != max_b:\n",
    "            neigh.append(((a - (max_b - b), max_a), (max_b, max_b), (c, max_c), \"A->B\"))\n",
    "        if c + a <= max_c:\n",
    "            neigh.append(((0, max_a), (b, max_b), (c + a, max_c), \"A->C\"))\n",
    "        elif c != max_c:\n",
    "            neigh.append(((a - (max_c - c), max_a), (b, max_b), (max_c, max_c), \"A->C\"))\n",
    "    if b > 0:\n",
    "        if a + b <= max_a:\n",
    "            neigh.append(((a + b, max_a), (0, max_b), (c, max_c), \"B->A\"))\n",
    "        elif a != max_a:\n",
    "            neigh.append(((max_a, max_a), (b - (max_a - a), max_b), (c, max_c), \"B->A\"))\n",
    "        if c + b <= max_c:\n",
    "            neigh.append(((a, b), (0, max_b), (c + b, max_c), \"B->C\"))\n",
    "        elif c != max_c:\n",
    "            neigh.append(((a, max_a), (b - (max_c - c), max_b), (max_c, max_c), \"B->C\"))\n",
    "    if c > 0:\n",
    "        if a + c <= max_a:\n",
    "            neigh.append(((a + c, max_a), (b, max_b), (0, max_c), \"C->A\"))\n",
    "        elif a != max_a:\n",
    "            neigh.append(((max_a, max_a), (b, max_b), (c - (max_a - a), max_c), \"C->A\"))\n",
    "        if b + c <= max_b:\n",
    "            neigh.append(((a, max_a), (b + c, max_b), (0, max_c), \"C->B\"))\n",
    "        elif b != max_b:\n",
    "            neigh.append(((a, max_a), (max_b, max_b), (c - (max_b - b), max_c), \"C->B\"))\n",
    "        \n",
    "    return neigh\n",
    "\n",
    "def state_eq(state1, state2):\n",
    "    return state1[0][0] == state2[0][0] and state1[1][0] == state2[1][0] and state1[2][0] == state2[2][0]\n",
    "\n",
    "def state_key(state):\n",
    "    return state[0][0], state[1][0], state[2][0]\n",
    "\n",
    "s = solve(\n",
    "    ((5, 10), (3, 7), (4, 5), \"\"),\n",
    "    ((10, 10), (2, 7), (0, 5), \"\"),\n",
    "    get_neigh_fn,\n",
    "    state_eq,\n",
    "    state_key\n",
    ")\n",
    "print(*map(lambda x: (x[0][0], x[1][0], x[2][0], x[3]), s), sep=\"\\n\")\n",
    "    "
   ],
   "id": "f3b0b49ed855e3c8",
   "outputs": [
    {
     "name": "stdout",
     "output_type": "stream",
     "text": [
      "(5, 3, 4, '')\n",
      "(1, 7, 4, 'A->B')\n",
      "(8, 0, 4, 'B->A')\n",
      "(8, 4, 0, 'C->B')\n",
      "(10, 2, 0, '')\n"
     ]
    }
   ],
   "execution_count": 34
  },
  {
   "metadata": {},
   "cell_type": "code",
   "outputs": [],
   "execution_count": null,
   "source": "",
   "id": "e993aac7d4937809"
  }
 ],
 "metadata": {
  "kernelspec": {
   "display_name": "Python 3",
   "language": "python",
   "name": "python3"
  },
  "language_info": {
   "codemirror_mode": {
    "name": "ipython",
    "version": 2
   },
   "file_extension": ".py",
   "mimetype": "text/x-python",
   "name": "python",
   "nbconvert_exporter": "python",
   "pygments_lexer": "ipython2",
   "version": "2.7.6"
  }
 },
 "nbformat": 4,
 "nbformat_minor": 5
}
