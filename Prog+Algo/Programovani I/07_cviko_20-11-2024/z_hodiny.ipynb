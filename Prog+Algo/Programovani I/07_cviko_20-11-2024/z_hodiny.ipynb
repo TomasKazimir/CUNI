{
 "cells": [
  {
   "cell_type": "markdown",
   "id": "8d8167f9a1409378",
   "metadata": {},
   "source": [
    "# NPRG030 Programování I – cvičení 20.11.2024\n",
    "\n",
    "### Problem: Hanojske veze\n",
    "* rekurzi"
   ]
  },
  {
   "cell_type": "code",
   "id": "initial_id",
   "metadata": {
    "collapsed": true,
    "jupyter": {
     "outputs_hidden": true
    }
   },
   "source": [
    "from IPython.core.hooks import synchronize_with_editor\n",
    "\n",
    "\"\"\"\n",
    "    |        |         |\n",
    "   ===       |         |\n",
    "  =====      |         |\n",
    " =======     |         |\n",
    "############################\n",
    "  start     cil\n",
    "\n",
    "N-disku presunout ze startu do cile\n",
    " - hornich N-1 presunout na pomocnou tycku\n",
    " - presunout spodni ze startu do cile\n",
    " - presunout N-1 z pomocne do cile\n",
    "\n",
    "\"\"\" \n",
    " \n",
    "\n",
    "\n",
    "\n",
    "def hanoi(n, start, cil, pomocna):\n",
    "    if n == 1:\n",
    "        print(f\"presun {n} z {start} do {cil}\")\n",
    "        return cil\n",
    "    hanoi(n-1, start, pomocna, cil)\n",
    "    print(f\"presun {n} z {start} do {cil}\")\n",
    "    hanoi(n-1, pomocna, cil, start)\n",
    "\n",
    "hanoi(3, \"A\", \"B\", \"C\")"
   ],
   "outputs": [],
   "execution_count": null
  },
  {
   "cell_type": "markdown",
   "id": "3067586862b35ea6",
   "metadata": {},
   "source": [
    "### Problem: Given int K, generate all binary strings of length K without consecutive 1's"
   ]
  },
  {
   "cell_type": "code",
   "id": "1d7ff023394846e2",
   "metadata": {},
   "source": [
    "def _rec_all_bin_strs(curr_str, k, out):\n",
    "    if len(curr_str) == k:\n",
    "        out.append(curr_str)\n",
    "    elif curr_str[-1] == \"1\":\n",
    "        _rec_all_bin_strs(curr_str + \"0\", k, out)\n",
    "    else:\n",
    "        _rec_all_bin_strs(curr_str + \"0\", k, out)\n",
    "        _rec_all_bin_strs(curr_str + \"1\", k, out)\n",
    "\n",
    "def all_bin_strs(k):\n",
    "    out = []\n",
    "    _rec_all_bin_strs(\"0\", k, out)\n",
    "    _rec_all_bin_strs(\"1\", k, out)\n",
    "    return out\n",
    "\n",
    "print(*all_bin_strs(5), sep=\"\\n\")\n",
    "        "
   ],
   "outputs": [],
   "execution_count": null
  },
  {
   "cell_type": "markdown",
   "id": "e1259d7dc26e0673",
   "metadata": {},
   "source": []
  },
  {
   "cell_type": "markdown",
   "id": "49bfcaf30dade753",
   "metadata": {},
   "source": [
    "### Problem: Given int K and int N, generate all increasing sequences of lenght K from first N natural numbers"
   ]
  },
  {
   "cell_type": "code",
   "id": "d99b67289ba556e7",
   "metadata": {
    "ExecuteTime": {
     "end_time": "2024-11-20T21:45:00.090608Z",
     "start_time": "2024-11-20T21:45:00.085200Z"
    }
   },
   "source": [
    "def _rec(s, k, n, seqs):\n",
    "    if len(s) == k:\n",
    "        seqs.append(s)\n",
    "        return seqs\n",
    "    else:\n",
    "        for i in range(int(s[-1])+ 1, n + 1):\n",
    "            _rec(s + [str(i)], k, n, seqs)\n",
    "\n",
    "def all_increasing_sequences(k, n):\n",
    "    seqs = []\n",
    "    for i in range(1, n + 1):\n",
    "        _rec([str(i)], k, n, seqs)\n",
    "    \n",
    "    return seqs\n",
    "\n",
    "print(*all_increasing_sequences(3, 5), sep=\"\\n\")\n",
    "        "
   ],
   "outputs": [
    {
     "name": "stdout",
     "output_type": "stream",
     "text": [
      "['1', '2', '3']\n",
      "['1', '2', '4']\n",
      "['1', '2', '5']\n",
      "['1', '3', '4']\n",
      "['1', '3', '5']\n",
      "['1', '4', '5']\n",
      "['2', '3', '4']\n",
      "['2', '3', '5']\n",
      "['2', '4', '5']\n",
      "['3', '4', '5']\n"
     ]
    }
   ],
   "execution_count": 11
  },
  {
   "cell_type": "markdown",
   "id": "531d0603-9d46-470e-ad20-83d945a4d7e5",
   "metadata": {},
   "source": [
    "### Problem: Find all cutting of a string of letters that are palindromes\n",
    "\n",
    "\n",
    "a a b b c \\\n",
    "a a b b c \\\n",
    "aa bb c \\\n",
    "a a bb c \\\n",
    "aa b b c \n"
   ]
  },
  {
   "metadata": {
    "ExecuteTime": {
     "end_time": "2024-11-20T21:30:21.901397Z",
     "start_time": "2024-11-20T21:30:21.896577Z"
    }
   },
   "cell_type": "code",
   "source": [
    "def is_palindrome(a: str) -> bool:\n",
    "    return a == a[::-1]\n",
    "\n",
    "def all_pali_rec(out, curr, start, len_s, s):\n",
    "    if start >= len_s:\n",
    "        out.append(curr.copy())\n",
    "        return out\n",
    "    for i in range(start, len_s):\n",
    "        if is_palindrome(s[start:i + 1]):\n",
    "            curr.append(s[start:i + 1])\n",
    "            all_pali_rec(out, curr, i + 1, len_s, s)\n",
    "            curr.pop()\n",
    "    return out\n",
    "    \n",
    "def cut_into_palindromes(s: str):\n",
    "    return all_pali_rec([], [], 0, len(s), s)\n",
    "\n",
    "print(cut_into_palindromes(\"ababa\"))\n",
    "        "
   ],
   "id": "744e0857b974e134",
   "outputs": [
    {
     "name": "stdout",
     "output_type": "stream",
     "text": [
      "[['a', 'b', 'a', 'b', 'a', 'b'], ['a', 'b', 'a', 'bab'], ['a', 'b', 'aba', 'b'], ['a', 'bab', 'a', 'b'], ['a', 'babab'], ['aba', 'b', 'a', 'b'], ['aba', 'bab'], ['ababa', 'b']]\n"
     ]
    }
   ],
   "execution_count": 8
  },
  {
   "metadata": {},
   "cell_type": "markdown",
   "source": "# Binarni stromy:",
   "id": "ad4ad9552e85d654"
  },
  {
   "metadata": {},
   "cell_type": "code",
   "source": [
    "class Node:\n",
    "    def __init__(self, val, left=None, right=None):\n",
    "        self.val = val      # hodnota\n",
    "        self.left = left    # odkaz na levého syna\n",
    "        self.right = right  # odkaz na pravého syna\n",
    "    \n",
    "    def __repr__(self):\n",
    "        if self.left is None and self.right is None:\n",
    "            return f\"{self.val}, (L:None R:None)\"\n",
    "        if self.left is None:\n",
    "            return f\"{self.val}, (L:None, R:{self.right})\"\n",
    "        if self.right is None:\n",
    "            return f\"{self.val}, (L:{self.left} R:None)\"\n",
    "        return f\"{self.val}, (L:{self.left} R:{self.right})\"\n",
    "\n",
    "a = Node(\"1\",\n",
    "         Node(\"11\",\n",
    "              Node(\"111\"),\n",
    "              Node(\"112\",)\n",
    "              ),\n",
    "         Node(\"12\",\n",
    "              Node(\"121\"),\n",
    "              Node(\"122\")\n",
    "              )\n",
    "         )\n",
    "\n",
    "print(a)"
   ],
   "id": "5864eec7fc13eede",
   "outputs": [],
   "execution_count": null
  },
  {
   "metadata": {
    "ExecuteTime": {
     "end_time": "2024-11-20T14:30:15.934137Z",
     "start_time": "2024-11-20T14:30:15.915585Z"
    }
   },
   "cell_type": "code",
   "source": [
    "class Node:\n",
    "    def __init__(self, val, left=None, right=None):\n",
    "        self.val = val      # hodnota\n",
    "        self.left = left    # odkaz na levého syna\n",
    "        self.right = right  # odkaz na pravého syna\n",
    "\n",
    "class BinaryTree:\n",
    "    def __init__(self, root=None):\n",
    "        self.root = root\n",
    "    \n",
    "    def _depth(self, root):\n",
    "        if root is None:\n",
    "            return 0\n",
    "        else:\n",
    "            left_depth = self._depth(root.left)\n",
    "            right_depth = self._depth(root.right)\n",
    "            return max(left_depth, right_depth) + 1\n",
    "    \n",
    "    def depth(self):\n",
    "        return max(self._depth(self.root.left), self._depth(self.root.right)) + 1\n",
    "    \n",
    "    def _reflect(self, root):\n",
    "        if root is None:\n",
    "            return None\n",
    "        \n",
    "        root.left, root.right = self._reflect(root.right), self._reflect(root.left)\n",
    "    \n",
    "    def reflect(self):\n",
    "        return self._reflect(self.root)\n",
    "    \n",
    "\n",
    "tree = BinaryTree(Node(1))\n",
    "\n",
    "tree.root.left = Node(2)\n",
    "tree.root.right = Node(3)\n",
    "\n",
    "tree.root.left.left = Node(4)\n",
    "tree.root.left.right = Node(5)\n",
    "\n",
    "tree.root.right.left = Node(6)\n",
    "tree.root.right.right = Node(7)\n",
    "\n",
    "print(tree.depth())\n",
    "tree.reflect()\n",
    "# sakdjlaskljdksajldlkjasdkljasljdlksd\n",
    "    "
   ],
   "id": "5e933dd365c7474d",
   "outputs": [
    {
     "name": "stdout",
     "output_type": "stream",
     "text": [
      "3\n"
     ]
    }
   ],
   "execution_count": 5
  },
  {
   "metadata": {},
   "cell_type": "code",
   "outputs": [],
   "execution_count": null,
   "source": "",
   "id": "1db824eeb518d416"
  }
 ],
 "metadata": {
  "kernelspec": {
   "display_name": "Python 3 (ipykernel)",
   "language": "python",
   "name": "python3"
  },
  "language_info": {
   "codemirror_mode": {
    "name": "ipython",
    "version": 3
   },
   "file_extension": ".py",
   "mimetype": "text/x-python",
   "name": "python",
   "nbconvert_exporter": "python",
   "pygments_lexer": "ipython3",
   "version": "3.12.7"
  }
 },
 "nbformat": 4,
 "nbformat_minor": 5
}
