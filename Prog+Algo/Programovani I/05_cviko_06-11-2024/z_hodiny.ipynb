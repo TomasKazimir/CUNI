{
 "cells": [
  {
   "cell_type": "markdown",
   "metadata": {},
   "source": [
    "# NPRG030 Programování I – cvičení 6.11.2024\n",
    "\n",
    "\n",
    "#### Macelka? - talk Alan Kay 2015 - power of simplicity\n",
    "* 1/10 bunek v nasem tele ma nase DNA\n",
    "* zbytek je slime?\n",
    "\n",
    "* puvodne objekty jako samostatne minipocitace, ktere spolu komunikuji\n",
    "* dnes datove struktury.. je to stastne?"
   ]
  },
  {
   "cell_type": "markdown",
   "metadata": {},
   "source": [
    "### Binární halda\n",
    " - implementace v poli\n",
    " - rodic a[i] ma deti a[2i+1] a a[2i+2]\n",
    " - syn a[i] ma otce na pozici a[(i-1)//2]\n"
   ]
  },
  {
   "cell_type": "code",
   "execution_count": 20,
   "metadata": {},
   "outputs": [
    {
     "name": "stdout",
     "output_type": "stream",
     "text": [
      "53\n",
      "212"
     ]
    },
    {
     "ename": "IndexError",
     "evalue": "list index out of range",
     "output_type": "error",
     "traceback": [
      "\u001B[1;31m---------------------------------------------------------------------------\u001B[0m",
      "\u001B[1;31mIndexError\u001B[0m                                Traceback (most recent call last)",
      "Cell \u001B[1;32mIn[20], line 22\u001B[0m\n\u001B[0;32m     20\u001B[0m \u001B[38;5;28;01mwhile\u001B[39;00m \u001B[38;5;28mlen\u001B[39m(halda)\u001B[38;5;241m-\u001B[39m\u001B[38;5;241m1\u001B[39m \u001B[38;5;241m!=\u001B[39m \u001B[38;5;241m0\u001B[39m:\n\u001B[0;32m     21\u001B[0m     \u001B[38;5;28;01mfor\u001B[39;00m j \u001B[38;5;129;01min\u001B[39;00m \u001B[38;5;28mrange\u001B[39m(i, \u001B[38;5;241m2\u001B[39m\u001B[38;5;241m*\u001B[39mi\u001B[38;5;241m+\u001B[39m\u001B[38;5;241m2\u001B[39m):\n\u001B[1;32m---> 22\u001B[0m         \u001B[38;5;28mprint\u001B[39m(\u001B[43mhalda\u001B[49m\u001B[43m[\u001B[49m\u001B[43mj\u001B[49m\u001B[43m]\u001B[49m, end\u001B[38;5;241m=\u001B[39m\u001B[38;5;124m\"\u001B[39m\u001B[38;5;124m\"\u001B[39m)\n\u001B[0;32m     23\u001B[0m     \u001B[38;5;28mprint\u001B[39m()\n\u001B[0;32m     24\u001B[0m     i \u001B[38;5;241m=\u001B[39m \u001B[38;5;241m2\u001B[39m\u001B[38;5;241m*\u001B[39mi\u001B[38;5;241m+\u001B[39m\u001B[38;5;241m2\u001B[39m\n",
      "\u001B[1;31mIndexError\u001B[0m: list index out of range"
     ]
    }
   ],
   "source": [
    "from math import log2\n",
    "\n",
    "halda = []\n",
    "\n",
    "def pridej_do_haldy(h: list, prvek: int):\n",
    "    h.append(prvek)\n",
    "    \n",
    "    j = len(h) - 1\n",
    "    while j > 0 and h[j] > h[(j-1)//2]:\n",
    "        h[j], h[(j-1)//2] = h[(j-1)//2], h[j]\n",
    "        j //= 2\n",
    "\n",
    "pridej_do_haldy(halda, 1)\n",
    "pridej_do_haldy(halda, 5)\n",
    "pridej_do_haldy(halda, 2)\n",
    "pridej_do_haldy(halda, 3)\n",
    "pridej_do_haldy(halda, 2)\n",
    "\n",
    "i = 0\n",
    "while len(halda)-1 != 0:\n",
    "    for j in range(i, 2*i+2):\n",
    "        print(halda[j], end=\"\")\n",
    "    print()\n",
    "    i = 2*i+2"
   ]
  },
  {
   "cell_type": "markdown",
   "metadata": {},
   "source": [
    "### Problem\n",
    "* napis funkci, ktera setridi sestupne pole. Vime, ze kazdy prvek ve vstupnim poli je od sve cilove pozice vzdalen max k pozic"
   ]
  },
  {
   "cell_type": "markdown",
   "metadata": {},
   "source": [
    "### Problem\n",
    "* je dano n lan. chceme je spojit do jednoho lana. naklady na spojeni dvou lan se rovnaji souctu jejich delek. jake jsou minimalni naklady na spojeni vsech lan?"
   ]
  },
  {
   "cell_type": "code",
   "execution_count": null,
   "metadata": {},
   "outputs": [],
   "source": [
    "import heapq\n",
    "\n",
    "def min_rope_cost(ropes):\n",
    "    heapq.heapify(ropes)\n",
    "    while len(ropes) > 1:\n",
    "        c = heapq.heappop(ropes) + heapq.heappop(ropes)\n",
    "        heapq.heappush(ropes, c)\n",
    "    return heapq.heappop(ropes)"
   ]
  },
  {
   "cell_type": "markdown",
   "metadata": {},
   "source": []
  }
 ],
 "metadata": {
  "kernelspec": {
   "display_name": "Python 3",
   "language": "python",
   "name": "python3"
  },
  "language_info": {
   "codemirror_mode": {
    "name": "ipython",
    "version": 3
   },
   "file_extension": ".py",
   "mimetype": "text/x-python",
   "name": "python",
   "nbconvert_exporter": "python",
   "pygments_lexer": "ipython3",
   "version": "3.12.7"
  }
 },
 "nbformat": 4,
 "nbformat_minor": 2
}
