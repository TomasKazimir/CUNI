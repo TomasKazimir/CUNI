{
 "cells": [
  {
   "metadata": {},
   "cell_type": "markdown",
   "source": [
    "# NPRG030 Programování I – cvičení 13.11.2024\n",
    "\n",
    "### Problem: Hangman\n",
    "* jednoducha implementace"
   ],
   "id": "6cbb9f13217a07dc"
  },
  {
   "metadata": {},
   "cell_type": "code",
   "source": "# viz minule cviko hangman.py",
   "id": "751e97c52516463f",
   "outputs": [],
   "execution_count": null
  },
  {
   "metadata": {},
   "cell_type": "markdown",
   "source": "# Rekurze:",
   "id": "1f8f1609416c9016"
  },
  {
   "metadata": {},
   "cell_type": "markdown",
   "source": [
    "### Problem: power of 2\n",
    "\n",
    "* recursive function `is_pow_of_2(n) -> True / False`\n",
    "* recursive function `is_pow_of_k(n, k) -> True / False`"
   ],
   "id": "213f00da22d99374"
  },
  {
   "metadata": {},
   "cell_type": "code",
   "source": [
    "from dbm import error\n",
    "\n",
    "\n",
    "def is_pow_of_2(n: int) -> bool:\n",
    "    if n == 1:\n",
    "        return True\n",
    "    if n % 2 == 0:  # is divisible by 2\n",
    "        return is_pow_of_2(n // 2)\n",
    "    return False\n",
    "\n",
    "\n",
    "def is_pow_of_k(n: int, k: int) -> bool:\n",
    "    if n == 1:\n",
    "        return True\n",
    "    if n % k == 0:\n",
    "        return is_pow_of_k(n // k, k)\n",
    "    return False\n"
   ],
   "id": "a5f3787543ab332f",
   "outputs": [],
   "execution_count": null
  },
  {
   "metadata": {},
   "cell_type": "markdown",
   "source": [
    "### Problem: Sum\n",
    "* `rec_sum(a,i,j) -> sum of elements in a[i:j]`"
   ],
   "id": "1c5b9ff0b5dbbd93"
  },
  {
   "metadata": {},
   "cell_type": "code",
   "source": [
    "def rec_sum(a, i, j):\n",
    "    if i >= j:\n",
    "        return 0\n",
    "    return a[i] + rec_sum(a, i + 1, j)\n",
    "\n",
    "\n",
    "print(rec_sum([1, 2, 3, 4, 5, 6, 7, 8, 9, 10], 5, 8))\n"
   ],
   "id": "9eea56100a1ec430",
   "outputs": [],
   "execution_count": null
  },
  {
   "metadata": {},
   "cell_type": "markdown",
   "source": "### Problem: Max",
   "id": "118210e4c02d224c"
  },
  {
   "metadata": {
    "ExecuteTime": {
     "end_time": "2024-11-13T14:40:10.369992Z",
     "start_time": "2024-11-13T14:40:10.356543Z"
    }
   },
   "cell_type": "code",
   "source": [
    "def rec_max(a: list, i: int, j: int):\n",
    "    if not (i < j):\n",
    "        return \"invalid input\"\n",
    "\n",
    "    if i + 1 == j:\n",
    "        return a[i]\n",
    "    m = rec_max(a, i + 1, j)\n",
    "    return m if m > a[i] else a[i]\n",
    "\n",
    "\n",
    "print(rec_max([10, 5, 3, 2, 5, 4, 1, 0, 10, 1], 0, 3))"
   ],
   "id": "d8210592eab41f9b",
   "outputs": [
    {
     "name": "stdout",
     "output_type": "stream",
     "text": [
      "10\n"
     ]
    }
   ],
   "execution_count": 2
  },
  {
   "metadata": {},
   "cell_type": "markdown",
   "source": [
    "### Problem: search\n",
    "* `search(a: SORTED list, x: int) -> TRUE/FALSE`\n",
    "* use binary search and recursion"
   ],
   "id": "da504ecda814545d"
  },
  {
   "metadata": {},
   "cell_type": "code",
   "source": [
    "def rec_binary_search(a: list, x: int):\n",
    "    lo, hi = 0, len(a) - 1\n",
    "    if lo == hi: return False\n",
    "    mid = (lo + hi) // 2\n",
    "    if a[mid] == x:\n",
    "        return True\n",
    "    elif a[mid] < x:\n",
    "        return rec_binary_search(a[mid:hi], x)\n",
    "    else:\n",
    "        return rec_binary_search(a[lo:mid], x)\n",
    "\n",
    "\n",
    "print(rec_binary_search([1, 2, 3, 4, 5, 6, 7, 8, 9, 10], 7))  # TRUE\n",
    "print(rec_binary_search([1, 2, 3, 4, 5, 6, 7, 8, 9, 10], 20))  # FALSE\n",
    "print(rec_binary_search([n for n in range(10 **10)], 1))  # FALSE\n"
   ],
   "id": "9c7e7a862fe70029",
   "outputs": [],
   "execution_count": null
  },
  {
   "metadata": {},
   "cell_type": "markdown",
   "source": [
    "### Problem: multiply\n",
    "* `mul(a: int, b: int) -> a * n` without using the * operator"
   ],
   "id": "3948ecc3c7fb8c6"
  },
  {
   "metadata": {},
   "cell_type": "code",
   "source": [
    "def rec_mul(a: int, b: int) -> int:\n",
    "    if b == 1:\n",
    "        return a\n",
    "    return a + rec_mul(a, b - 1)\n",
    "\n",
    "\n",
    "# print(rec_mul(9999, 35021), 9999*35021) # TOO MUCH RECURSION\n",
    "\n",
    "def rec_mul_fast(a: int, b: int) -> int:\n",
    "    if b == 1:\n",
    "        return a\n",
    "    if b % 2 == 0:\n",
    "        x = rec_mul_fast(a, b // 2)\n",
    "        return x + x\n",
    "    else:\n",
    "        x = rec_mul_fast(a, b // 2)\n",
    "        return a + x + x\n",
    "\n",
    "\n",
    "print(rec_mul_fast(9999, 35021), 9999 * 35021)"
   ],
   "id": "6982f7f4a5a6b6f9",
   "outputs": [],
   "execution_count": null
  },
  {
   "metadata": {},
   "cell_type": "markdown",
   "source": [
    "#### Problem: permutations\n",
    " * `cycle([2,3,1,0])` returns True, if the permutation has only one cycle"
   ],
   "id": "68543616b3fc6039"
  },
  {
   "metadata": {},
   "cell_type": "code",
   "source": [
    "def cycle_(a: list, i, c) -> bool:\n",
    "    print(f\"{i} -> {a[i]} ({c})\")\n",
    "    if a[i] == 0:\n",
    "        if c == len(a):\n",
    "            return True\n",
    "        else:\n",
    "            return False\n",
    "    return cycle_(a, a[i], c + 1)\n",
    "\n",
    "\n",
    "def cycle(a: list):\n",
    "    print(a)\n",
    "    return cycle_(a, 0, 1)\n",
    "\n",
    "\n",
    "print(cycle([2, 3, 1, 0]))\n",
    "print(cycle([2, 3, 0, 1]))\n",
    "print(cycle([5, 1, 2, 4, 0, 3]))\n"
   ],
   "id": "ee0b423215d48c77",
   "outputs": [],
   "execution_count": null
  },
  {
   "metadata": {},
   "cell_type": "markdown",
   "source": [
    "# Spojové seznamy\n",
    "\n",
    "Node:\n",
    "* value\n",
    "* next"
   ],
   "id": "b71b8fe20fe5e3ab"
  },
  {
   "metadata": {},
   "cell_type": "markdown",
   "source": [
    "```TXT\n",
    "Mergesort:\\\n",
    "|- - - - - - - - - - - - - - - -|\n",
    "|- - - - - - - -|- - - - - - - -|\n",
    "|- - - -|- - - -|- - - -|- - - -|\n",
    "|- -|- -|- -|- -|- -|- -|- -|- -|\n",
    "setridim podjednotky a pak je zpatky pospojuju\n",
    "```"
   ],
   "id": "404263d02ce5cfa6"
  },
  {
   "metadata": {},
   "cell_type": "code",
   "outputs": [],
   "execution_count": null,
   "source": [
    "class Node:\n",
    "    def __init__(self, value = None, next = None):\n",
    "        self.value = value\n",
    "        self.next = next\n",
    "\n",
    "class LinkedList:\n",
    "    def __init__(self, head = None, size = 0):\n",
    "        self.head = head\n",
    "        self.length = size\n",
    "    \n",
    "    def prepend(self, value):\n",
    "        self.head = Node(value, self.head)\n",
    "        self.length += 1\n",
    "    \n",
    "    def remove_first(self):\n",
    "        self.head = self.head.next\n",
    "        self.length -= 1\n",
    "        return self.head.value\n",
    "    \n",
    "    def len(self):\n",
    "        return self.length\n",
    "    \n",
    "    def sort(self):\n",
    "        \"\"\"ascending using mergesort\"\"\"\n",
    "        pass\n",
    "        "
   ],
   "id": "70662c61d07aa83"
  }
 ],
 "metadata": {
  "kernelspec": {
   "display_name": "Python 3",
   "language": "python",
   "name": "python3"
  },
  "language_info": {
   "codemirror_mode": {
    "name": "ipython",
    "version": 2
   },
   "file_extension": ".py",
   "mimetype": "text/x-python",
   "name": "python",
   "nbconvert_exporter": "python",
   "pygments_lexer": "ipython2",
   "version": "2.7.6"
  }
 },
 "nbformat": 4,
 "nbformat_minor": 5
}
