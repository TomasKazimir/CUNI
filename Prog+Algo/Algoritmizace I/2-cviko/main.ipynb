{
 "cells": [
  {
   "cell_type": "markdown",
   "metadata": {},
   "source": [
    "# 9/10/2024 Cviko Algo+program"
   ]
  },
  {
   "cell_type": "markdown",
   "metadata": {},
   "source": [
    "Algoritmus - postup/navod na reseni daneho typu ulohy \\\n",
    "Komplexita - videjka xd - ruzne urovne komplexity, ruzna media, interakce systemu, presnost vs predikce\n"
   ]
  },
  {
   "cell_type": "markdown",
   "metadata": {},
   "source": [
    "## Problem 1\n",
    "- rovnoramenne vahy\n",
    "- 8 kulicek z nichz jedna je lehci nez ostatni\\\n",
    "Najdete tu nejlehci"
   ]
  },
  {
   "cell_type": "code",
   "execution_count": null,
   "metadata": {},
   "outputs": [],
   "source": [
    "\"\"\" \n",
    "reseni pro 8 kulicek - max 4 vazeni\n",
    "1 2 3 4 5 6 7 8\n",
    "\\ / \\ / \\ / \\ /\n",
    "    konec :)\n",
    "\"\"\"\n",
    "print(\"serad si kulicky vedle sebe od 1. po 8.\")\n",
    "for i in range(1,8,2):\n",
    "    print(f\"zvaz {i} a {i+1} kulicku\")\n",
    "    odpoved = input(\"je nektera z nich lehci? pokud ano, zadej jeji cislo, jinak napis 'ne'\")\n",
    "    if odpoved == \"ne\":\n",
    "        print(\"nevadi, jedeme dal\")\n",
    "        continue\n",
    "    print(\"supr, nasel si tu nejlehci\")\n",
    "    odpoved = int(odpoved)\n",
    "    print(odpoved, \"- to je ona\")\n",
    "    break\n",
    "\n"
   ]
  },
  {
   "cell_type": "code",
   "execution_count": null,
   "metadata": {},
   "outputs": [],
   "source": [
    "\"\"\"\n",
    "obecne reseni, max n/2 vazeni... ne uplne optimalni xD\n",
    "\"\"\"\n",
    "\n",
    "n = int(input(\"kolik mas kulicek?\"))\n",
    "\n",
    "for i in range(1, n, 2):\n",
    "    print(f\"zvaz {i} a {i+1} kulicku\")\n",
    "    print(\"je nektera z nich lehci? pokud ano, zadej jeji cislo, jinak napis 'ne'\")\n",
    "    odpoved = input()\n",
    "    if odpoved == \"ne\":\n",
    "        print(\"nevadi, jedeme dal\")\n",
    "        continue\n",
    "    print(\"supr, nasel si tu jinou\")\n",
    "    odpoved = int(odpoved)\n",
    "    print(odpoved, \"- to je ona\")\n",
    "    break\n",
    "else:\n",
    "    print(f\"uz nam zbyva posledni kulicka... tak to bude ona!\\n{n}. kulicka je jina\")"
   ]
  },
  {
   "cell_type": "code",
   "execution_count": null,
   "metadata": {},
   "outputs": [],
   "source": [
    "\"\"\"\n",
    "obecne reseni 2. - DODELAT DOMA\n",
    "\"\"\"\n",
    "\n",
    "print(\"kolik mas kulicek?\")\n",
    "n = int(input())\n",
    "\n",
    "while True:\n",
    "    if n % 2 == 0: # sude\n",
    "        print(\"rozdel kulicky na 3 hromadky (v jedne bude o 1 mene)\")\n",
    "        print(\"zvaz 1. a 2. hromadku, je nektera z nich lehci? [1/2/ne]\")\n",
    "        odpoved = input()\n",
    "        if odpoved == \"1\":\n",
    "            print(\"zde se skryva sotek\")\n",
    "            print(\"\")\n",
    "        elif odpoved == \"2\":\n",
    "            pass\n",
    "        else:\n",
    "            print(\"1. a 2. hromadku tedy zahod a vem si pred sebe tu 3.\")\n",
    "\n",
    "\n"
   ]
  },
  {
   "cell_type": "markdown",
   "metadata": {},
   "source": [
    "## KOMPLEXITA\n",
    "#### hvezdicky: kolik * algoritmus vytiskne?"
   ]
  },
  {
   "cell_type": "code",
   "execution_count": null,
   "metadata": {},
   "outputs": [],
   "source": [
    "# A 2\n",
    "n = int(input())\n",
    "for i in range(n+1):\n",
    "    for j in range(1, i+1):\n",
    "        print(\"*\", end=\" \")\n",
    "    print()"
   ]
  },
  {
   "cell_type": "code",
   "execution_count": null,
   "metadata": {},
   "outputs": [],
   "source": [
    "# A 3\n",
    "n = int(input())\n",
    "\n",
    "while n >= 1:\n",
    "    print(\"*\")\n",
    "    n = n //2"
   ]
  },
  {
   "cell_type": "code",
   "execution_count": null,
   "metadata": {},
   "outputs": [],
   "source": [
    "# A 4\n",
    "n = int(input())\n",
    "while n > 0:\n",
    "    if n%2 == 1:        # kdyz je n sude\n",
    "        print(\"* \" * n) # vytiskni n hvezdicek\n",
    "    n = n // 2"
   ]
  },
  {
   "cell_type": "code",
   "execution_count": null,
   "metadata": {},
   "outputs": [],
   "source": [
    "n = int(input())\n",
    "\n",
    "while n > 0:\n",
    "    if n % 1 == 1:\n",
    "        print(\"*\")\n",
    "        n = n - 1\n",
    "    else:\n",
    "        print(\"*\"*n) \n",
    "        n = n // 2"
   ]
  },
  {
   "cell_type": "markdown",
   "metadata": {},
   "source": [
    "# Asymptoticka slozitost\n",
    "* n = O(n)\n",
    "* 2n"
   ]
  }
 ],
 "metadata": {
  "kernelspec": {
   "display_name": "Python 3",
   "language": "python",
   "name": "python3"
  },
  "language_info": {
   "codemirror_mode": {
    "name": "ipython",
    "version": 3
   },
   "file_extension": ".py",
   "mimetype": "text/x-python",
   "name": "python",
   "nbconvert_exporter": "python",
   "pygments_lexer": "ipython3",
   "version": "3.12.7"
  }
 },
 "nbformat": 4,
 "nbformat_minor": 2
}
