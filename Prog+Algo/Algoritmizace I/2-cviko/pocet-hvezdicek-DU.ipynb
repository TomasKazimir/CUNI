{
 "cells": [
  {
   "cell_type": "code",
   "execution_count": null,
   "metadata": {},
   "outputs": [],
   "source": [
    "# Kolik nejméně/nejvíce hvězdiček program vytiskne vzhledm k zadanému n > 0?\n",
    "\n",
    "n = int(input())\n",
    "\n",
    "while n > 0:\n",
    "    if n % 1 == 1:\n",
    "        print(\"*\")\n",
    "        n = n - 1\n",
    "    else:\n",
    "        print(\"*\") \n",
    "        n = n // 2"
   ]
  },
  {
   "cell_type": "markdown",
   "metadata": {},
   "source": [
    "### RESENI:\n",
    "> Program pro uzivatelem zadane prirozene cislo `n` provadi while cyklus, dokud je `n` vetsi nez nula. \\\n",
    "Podminka `if n % 1 == 1` nebude nikdy vyhodnocena jako pravdiva, nebot zbytek po deleni 1 je pro vsechna prirozena cisla roven nule. \\\n",
    "Vzdy se tedy provedou prikazy v bloku `else`. Zde se vytiskne 1x hvezdicka a `n` se celociselne vydeli dvojkou (tedy se vzdy zmensi o polovinu). \\\n",
    "Pocet vytisknutych hvezdicek se tak bude rovnat exponentu mocniny dvojky, ktera je vetsi nez `n` a je \"nejblize\" k `n`. \\\n",
    "**Tento pocet se tedy da vyjadrit jako `⌈log2(n+1)⌉` pro libovolne prirozene `n`**"
   ]
  },
  {
   "cell_type": "code",
   "execution_count": null,
   "metadata": {},
   "outputs": [],
   "source": [
    "from math import log2, ceil\n",
    "\n",
    "zadane_cislo = int(input(\"Zadej cislo \"))\n",
    "n = int(str(zadane_cislo))\n",
    "\n",
    "hvezdicky = 0\n",
    "\n",
    "while n > 0:\n",
    "    if n % 1 == 1:\n",
    "        print(\"tohle se nikdy nevytiskne... *\")\n",
    "        n = n - 1\n",
    "    else:\n",
    "        n = n // 2\n",
    "        print(\"*\")\n",
    "    hvezdicky += 1\n",
    "\n",
    "print(f\"n = {zadane_cislo}, ⌈log2(n+1)⌉ = {ceil(log2(zadane_cislo+1))}, pocet hvezdicek = {hvezdicky}\")"
   ]
  }
 ],
 "metadata": {
  "kernelspec": {
   "display_name": "Python 3",
   "language": "python",
   "name": "python3"
  },
  "language_info": {
   "codemirror_mode": {
    "name": "ipython",
    "version": 3
   },
   "file_extension": ".py",
   "mimetype": "text/x-python",
   "name": "python",
   "nbconvert_exporter": "python",
   "pygments_lexer": "ipython3",
   "version": "3.12.7"
  }
 },
 "nbformat": 4,
 "nbformat_minor": 2
}
